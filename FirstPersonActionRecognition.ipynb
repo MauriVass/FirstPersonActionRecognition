{
  "nbformat": 4,
  "nbformat_minor": 0,
  "metadata": {
    "colab": {
      "name": "Project1.ipynb",
      "provenance": [],
      "collapsed_sections": [
        "7uaUXA-5JzWO",
        "43paphOTJ4y6",
        "pT8azTkj1I7J"
      ],
      "toc_visible": true,
      "include_colab_link": true
    },
    "kernelspec": {
      "name": "python3",
      "display_name": "Python 3"
    },
    "accelerator": "GPU"
  },
  "cells": [
    {
      "cell_type": "markdown",
      "metadata": {
        "id": "view-in-github",
        "colab_type": "text"
      },
      "source": [
        "<a href=\"https://colab.research.google.com/github/mldl2020/FirstPersonActionRecognition/blob/master/FirstPersonActionRecognition.ipynb\" target=\"_parent\"><img src=\"https://colab.research.google.com/assets/colab-badge.svg\" alt=\"Open In Colab\"/></a>"
      ]
    },
    {
      "cell_type": "markdown",
      "metadata": {
        "id": "c9QcGnGPdX2C",
        "colab_type": "text"
      },
      "source": [
        "\n",
        "**Install requirements**"
      ]
    },
    {
      "cell_type": "code",
      "metadata": {
        "id": "k9O3aM3Tb28q",
        "colab_type": "code",
        "colab": {}
      },
      "source": [
        "if(False):\n",
        "  #!pip3 install 'torch==1.3.1'\n",
        "  !pip3 install 'torch==1.4.0'\n",
        "  !pip3 install 'torchvision==0.5.0'\n",
        "  !pip3 install 'Pillow-SIMD'\n",
        "  !pip3 install 'tqdm'\n"
      ],
      "execution_count": 0,
      "outputs": []
    },
    {
      "cell_type": "markdown",
      "metadata": {
        "id": "fo942LMOdlh4",
        "colab_type": "text"
      },
      "source": [
        "**Import libraries**"
      ]
    },
    {
      "cell_type": "code",
      "metadata": {
        "id": "DokFOdD1dJEl",
        "colab_type": "code",
        "colab": {}
      },
      "source": [
        "import os\n",
        "import logging\n",
        "\n",
        "import torch\n",
        "import torch.nn as nn\n",
        "import torch.optim as optim\n",
        "from torch.utils.data import Subset, DataLoader, random_split\n",
        "from torch.backends import cudnn\n",
        "\n",
        "import torchvision\n",
        "from torchvision import transforms\n",
        "from torchvision.models import resnet34\n",
        "\n",
        "from PIL import Image\n",
        "from tqdm import tqdm\n",
        "\n",
        "import numpy as np\n",
        "import matplotlib.pyplot as plt\n",
        "import pandas as pd"
      ],
      "execution_count": 0,
      "outputs": []
    },
    {
      "cell_type": "code",
      "metadata": {
        "id": "9XQIUwIe8jZ1",
        "colab_type": "code",
        "colab": {}
      },
      "source": [
        "DEVICE = 'cuda' # 'cuda' or 'cpu'\n",
        "\n",
        "NUM_CLASSES = 61 \n",
        "\n",
        "BATCH_SIZE = 32     # Higher batch sizes allows for larger learning rates. An empirical heuristic suggests that, when changing\n",
        "                     # the batch size, learning rate should change by the same factor to have comparable results\n",
        "MEM_SIZE = 512\n",
        "\n",
        "LR = 1e-3            # The initial Learning Rate\n",
        "MOMENTUM = 0.9       # Hyperparameter for SGD, keep this at 0.9 when using SGD\n",
        "WEIGHT_DECAY = 5e-5  # Regularization, you can keep this at the default\n",
        "\n",
        "NUM_EPOCHS = 30      # Total number of training epochs (iterations over dataset)\n",
        "STEP_SIZE = 20       # How many epochs before decreasing learning rate (if using a step-down policy)\n",
        "GAMMA = 0.1          # Multiplicative factor for learning rate step-down\n",
        "ALPHA = 0.5\n",
        "\n",
        "LOG_FREQUENCY = 10\n",
        "VAL_FREQUENCY = 3"
      ],
      "execution_count": 0,
      "outputs": []
    },
    {
      "cell_type": "code",
      "metadata": {
        "id": "7de-SpWlJLzR",
        "colab_type": "code",
        "outputId": "a611f577-19a9-4d33-cfba-74c0226a165b",
        "colab": {
          "base_uri": "https://localhost:8080/",
          "height": 163
        }
      },
      "source": [
        "# Clone github repository with data\n",
        "if not os.path.isdir('./GTEA61'):\n",
        "  !git clone https://github.com/MauriVass/GTEA61\n",
        "\n",
        "#Remove file to avoid problems with 'makeDatasetTwoStream()'\n",
        "import shutil\n",
        "if os.path.isdir('GTEA61/.git'):\n",
        "  shutil.rmtree('GTEA61/.git')\n",
        "  os.remove('GTEA61/.gitignore')\n",
        "  \n",
        "PATH_MODELS = 'Models/'\n",
        "if not os.path.isdir('./'+PATH_MODELS):\n",
        "  os.mkdir('./'+PATH_MODELS)"
      ],
      "execution_count": 0,
      "outputs": [
        {
          "output_type": "stream",
          "text": [
            "Cloning into 'GTEA61'...\n",
            "remote: Enumerating objects: 9639, done.\u001b[K\n",
            "remote: Counting objects: 100% (9639/9639), done.\u001b[K\n",
            "remote: Compressing objects: 100% (9566/9566), done.\u001b[K\n",
            "remote: Total 93346 (delta 25), reused 9577 (delta 8), pack-reused 83707\u001b[K\n",
            "Receiving objects: 100% (93346/93346), 4.21 GiB | 31.77 MiB/s, done.\n",
            "Resolving deltas: 100% (1493/1493), done.\n",
            "Checking out files: 100% (90815/90815), done.\n"
          ],
          "name": "stdout"
        }
      ]
    },
    {
      "cell_type": "code",
      "metadata": {
        "id": "zgXNIyBCrV6w",
        "colab_type": "code",
        "colab": {}
      },
      "source": [
        "def PlotAccuracyLoss(train, valid, meta=''):\n",
        "  acc_train = np.array(train)[:,0]\n",
        "  loss_train = np.array(train)[:,1]\n",
        "\n",
        "  if(valid):\n",
        "    acc_valid = np.array(valid)[:,0]\n",
        "    loss_valid = np.array(valid)[:,1]\n",
        "\n",
        "  epoch_train = [i for i in range(len(acc_train))]\n",
        "  if(valid):\n",
        "    epoch_val = [i*VAL_FREQUENCY for i in range(len(acc_valid))]\n",
        "\n",
        "  fig, ax = plt.subplots(1,2,figsize=(13,7))\n",
        "  size = 10\n",
        "\n",
        "  color_train = '#ff0000'\n",
        "  color_val = '#00ff00'\n",
        "\n",
        "  ax[0].plot(epoch_train,loss_train,color=color_train)\n",
        "  ax[0].scatter(epoch_train,loss_train,marker='s',s=size,color=color_train)\n",
        "  if(valid):\n",
        "    ax[0].plot(epoch_val,loss_valid,color=color_val)\n",
        "    ax[0].scatter(epoch_val,loss_valid,marker='s',s=size,color=color_val)\n",
        "  ax[0].set_title('Loss Graph')\n",
        "  ax[0].set_ylabel('Loss')\n",
        "  ax[0].set_xlabel('Epoch')\n",
        "\n",
        "  ax[1].plot(epoch_train,acc_train,color=color_train)\n",
        "  ax[1].scatter(epoch_train,acc_train,marker='s',s=size,color=color_train)\n",
        "  if(valid):\n",
        "    ax[1].plot(epoch_val,acc_valid,color=color_val)\n",
        "    ax[1].scatter(epoch_val,acc_valid,marker='s',s=size,color=color_val)\n",
        "  ax[1].set_title('Accuracy Graph')\n",
        "  ax[1].set_ylabel('Accuracy')\n",
        "  ax[1].set_xlabel('Epoch')\n",
        "\n",
        "  fig.suptitle(meta)\n",
        "  plt.legend([\"Train\", \"Validation\"])\n",
        "\n",
        "  fig.tight_layout(rect=[0, 0.03, 1, 0.95])\n",
        "  plt.show()\n",
        "\n",
        "  if(valid):\n",
        "    print('Min Loss: Train: {:.6f}, Val: {:.6f}'.format( min(loss_train), min(loss_valid) ))\n",
        "    print('Max Accuracy: Train: {:.6f}, Val: {:.6f}'.format( max(acc_train), max(acc_valid) ))\n",
        "  else:\n",
        "    print('Min Loss: Train: {:.6f}'.format( min(loss_train) ))\n",
        "    print('Max Accuracy: Train: {:.6f}'.format( max(acc_train) ))"
      ],
      "execution_count": 0,
      "outputs": []
    },
    {
      "cell_type": "markdown",
      "metadata": {
        "id": "xi2q5YGpE41O",
        "colab_type": "text"
      },
      "source": [
        "# ConvLSTM"
      ]
    },
    {
      "cell_type": "code",
      "metadata": {
        "id": "8b2F-gtsK789",
        "colab_type": "code",
        "colab": {}
      },
      "source": [
        "class CNN(nn.Module):\n",
        "  def __init__(self):\n",
        "    super(CNN, self).__init__()\n",
        "    self.conv1 = nn.Conv2d(3, MEM_SIZE, kernel_size=5)\n",
        "    self.conv2 = nn.Conv2d(MEM_SIZE, MEM_SIZE, kernel_size=5)\n",
        "    self.conv2_drop = nn.Dropout2d()\n",
        "    self.fc1 = nn.Linear(MEM_SIZE, 50)\n",
        "    self.fc2 = nn.Linear(50, NUM_CLASSES)\n",
        "\n",
        "  def forward(self, x):\n",
        "    x = F.relu(F.max_pool2d(self.conv1(x), 2))\n",
        "    x = F.relu(F.max_pool2d(self.conv2_drop(self.conv2(x)), 2))\n",
        "    x = x.view(-1, 320)\n",
        "    #x = F.relu(self.fc1(x))\n",
        "    #x = F.dropout(x, training=self.training)\n",
        "    #x = self.fc2(x)\n",
        "    #return F.log_softmax(x, dim=1)\n",
        "    return x\n",
        "\n",
        "class Combine(nn.Module):\n",
        "  def __init__(self):\n",
        "    super(Combine, self).__init__()\n",
        "    self.cnn = CNN()\n",
        "    self.rnn = nn.LSTM(\n",
        "      input_size=320, \n",
        "      hidden_size=64, \n",
        "      num_layers=1,\n",
        "      batch_first=True)\n",
        "    self.linear = nn.Linear(64,10)\n",
        "\n",
        "  def forward(self, x):\n",
        "    batch_size, timesteps, C, H, W = x.size()\n",
        "    c_in = x.view(batch_size * timesteps, C, H, W)\n",
        "    c_out = self.cnn(c_in)\n",
        "    r_in = c_out.view(batch_size, timesteps, -1)\n",
        "    r_out, (h_n, h_c) = self.rnn(r_in)\n",
        "    r_out2 = self.linear(r_out[:, -1, :])\n",
        "    \n",
        "    return F.log_softmax(r_out2, dim=1)"
      ],
      "execution_count": 0,
      "outputs": []
    },
    {
      "cell_type": "code",
      "metadata": {
        "id": "gn19TjEs2ma1",
        "colab_type": "code",
        "colab": {}
      },
      "source": [
        "from MakeDatasetRGB import *\n",
        "from spatial_transforms import *\n",
        "from objectAttentionModelConvLSTM import *\n",
        "\n",
        "normalize = Normalize(mean=[0.485, 0.456, 0.406], std=[0.229, 0.224, 0.225])\n",
        "spatial_transform = Compose([Scale(256), RandomHorizontalFlip(), MultiScaleCornerCrop([1, 0.875, 0.75, 0.65625], 224),\n",
        "                                 ToTensor(), normalize])\n",
        "    \n",
        "DIR = 'GTEA61/processed_frames2' \n",
        "seqLen = 7\n",
        "training_folders = [1,3,4]\n",
        "train_dataset = makeDatasetRGB(DIR, spatial_transform=spatial_transform, seqLen=seqLen, fmt='.png', folders=training_folders)\n",
        "train_loader = torch.utils.data.DataLoader(train_dataset, batch_size=BATCH_SIZE, shuffle=True, num_workers=4, pin_memory=True)\n",
        "\n",
        "val_transform = Compose([Scale(256), CenterCrop(224), ToTensor(), normalize])\n",
        "validation = False\n",
        "if(validation):\n",
        "  validation_folders = [3]\n",
        "  val_dataset = makeDatasetRGB(DIR, spatial_transform=val_transform , seqLen=seqLen, fmt='.png', folders=validation_folders)\n",
        "  val_loader = torch.utils.data.DataLoader(val_dataset, batch_size=BATCH_SIZE, shuffle=True, num_workers=2, pin_memory=True)\n",
        "\n",
        "\n",
        "testing_folders = [2]\n",
        "test_dataset = makeDatasetRGB(DIR, spatial_transform=val_transform, seqLen=seqLen, fmt='.png', folders=testing_folders)\n",
        "test_loader = torch.utils.data.DataLoader(test_dataset, batch_size=1, shuffle=True, num_workers=2, pin_memory=True)\n"
      ],
      "execution_count": 0,
      "outputs": []
    },
    {
      "cell_type": "code",
      "metadata": {
        "id": "cNVgp0LPFAzV",
        "colab_type": "code",
        "outputId": "c0e21181-157c-4653-f64f-edc331c419e9",
        "colab": {
          "base_uri": "https://localhost:8080/",
          "height": 244
        }
      },
      "source": [
        "NUM_EPOCHS = 3\n",
        "lr = 1e-3\n",
        "decay_step = [25, 75, 150]\n",
        "decay_factor = 0.1\n",
        "\n",
        "model = Combine()\n",
        "model.to(DEVICE)\n",
        "\n",
        "loss_fn = nn.CrossEntropyLoss()\n",
        "\n",
        "optimizer_fn = torch.optim.Adam(model.parameters(), lr=lr, weight_decay=4e-5, eps=1e-4)\n",
        "\n",
        "optim_scheduler = torch.optim.lr_scheduler.MultiStepLR(optimizer_fn, milestones=decay_step, gamma=decay_factor)"
      ],
      "execution_count": 0,
      "outputs": [
        {
          "output_type": "error",
          "ename": "TypeError",
          "evalue": "ignored",
          "traceback": [
            "\u001b[0;31m---------------------------------------------------------------------------\u001b[0m",
            "\u001b[0;31mTypeError\u001b[0m                                 Traceback (most recent call last)",
            "\u001b[0;32m<ipython-input-12-de902af694ca>\u001b[0m in \u001b[0;36m<module>\u001b[0;34m()\u001b[0m\n\u001b[1;32m      5\u001b[0m \u001b[0;34m\u001b[0m\u001b[0m\n\u001b[1;32m      6\u001b[0m \u001b[0;31m#model = Combine()\u001b[0m\u001b[0;34m\u001b[0m\u001b[0;34m\u001b[0m\u001b[0;34m\u001b[0m\u001b[0m\n\u001b[0;32m----> 7\u001b[0;31m \u001b[0mmodel\u001b[0m \u001b[0;34m=\u001b[0m \u001b[0mMy_ConvLSTM_Model\u001b[0m\u001b[0;34m(\u001b[0m\u001b[0;34m)\u001b[0m\u001b[0;34m\u001b[0m\u001b[0;34m\u001b[0m\u001b[0m\n\u001b[0m\u001b[1;32m      8\u001b[0m \u001b[0mmodel\u001b[0m\u001b[0;34m.\u001b[0m\u001b[0mto\u001b[0m\u001b[0;34m(\u001b[0m\u001b[0mDEVICE\u001b[0m\u001b[0;34m)\u001b[0m\u001b[0;34m\u001b[0m\u001b[0;34m\u001b[0m\u001b[0m\n\u001b[1;32m      9\u001b[0m \u001b[0;34m\u001b[0m\u001b[0m\n",
            "\u001b[0;31mTypeError\u001b[0m: My_ConvLSTM_Model() missing 5 required positional arguments: 'frames', 'channels', 'pixels_x', 'pixels_y', and 'categories'"
          ]
        }
      ]
    },
    {
      "cell_type": "code",
      "metadata": {
        "id": "zy7lA6Q5LqoU",
        "colab_type": "code",
        "outputId": "651681cd-e8ea-4c59-aaad-5e8c448aa554",
        "colab": {
          "base_uri": "https://localhost:8080/",
          "height": 470
        }
      },
      "source": [
        "model.train()\n",
        "for batch_idx, (data, target) in enumerate(train_loader):\n",
        "    \n",
        "  #data = np.expand_dims(data, axis=1)\n",
        "  data = torch.FloatTensor(data)\n",
        "  print(data.size())\n",
        "  data, target = Variable(data.to(DEVICE)), target.cuda()\n",
        "  print(data.size())\n",
        "  data, target = Variable(data), Variable(target)\n",
        "  optimizer_fn.zero_grad()\n",
        "  print(data.size())\n",
        "  output = model(data)\n",
        "  \n",
        "  loss = F.nll_loss(output, target)\n",
        "  loss.backward()\n",
        "  optimizer_fn.step()\n",
        "  if batch_idx % args.log_interval == 0:\n",
        "    print('Train Epoch: {} [{}/{} ({:.0f}%)]\\tLoss: {:.6f}'.format(\n",
        "      epoch, batch_idx * len(data), len(train_loader.dataset),\n",
        "      100. * batch_idx / len(train_loader), loss.data()))"
      ],
      "execution_count": 0,
      "outputs": [
        {
          "output_type": "stream",
          "text": [
            "torch.Size([32, 7, 3, 224, 224])\n",
            "torch.Size([32, 7, 3, 224, 224])\n",
            "torch.Size([32, 7, 3, 224, 224])\n"
          ],
          "name": "stdout"
        },
        {
          "output_type": "error",
          "ename": "RuntimeError",
          "evalue": "ignored",
          "traceback": [
            "\u001b[0;31m---------------------------------------------------------------------------\u001b[0m",
            "\u001b[0;31mRuntimeError\u001b[0m                              Traceback (most recent call last)",
            "\u001b[0;32m<ipython-input-10-ea73734dac24>\u001b[0m in \u001b[0;36m<module>\u001b[0;34m()\u001b[0m\n\u001b[1;32m     10\u001b[0m   \u001b[0moptimizer_fn\u001b[0m\u001b[0;34m.\u001b[0m\u001b[0mzero_grad\u001b[0m\u001b[0;34m(\u001b[0m\u001b[0;34m)\u001b[0m\u001b[0;34m\u001b[0m\u001b[0;34m\u001b[0m\u001b[0m\n\u001b[1;32m     11\u001b[0m   \u001b[0mprint\u001b[0m\u001b[0;34m(\u001b[0m\u001b[0mdata\u001b[0m\u001b[0;34m.\u001b[0m\u001b[0msize\u001b[0m\u001b[0;34m(\u001b[0m\u001b[0;34m)\u001b[0m\u001b[0;34m)\u001b[0m\u001b[0;34m\u001b[0m\u001b[0;34m\u001b[0m\u001b[0m\n\u001b[0;32m---> 12\u001b[0;31m   \u001b[0moutput\u001b[0m \u001b[0;34m=\u001b[0m \u001b[0mmodel\u001b[0m\u001b[0;34m(\u001b[0m\u001b[0mdata\u001b[0m\u001b[0;34m)\u001b[0m\u001b[0;34m\u001b[0m\u001b[0;34m\u001b[0m\u001b[0m\n\u001b[0m\u001b[1;32m     13\u001b[0m \u001b[0;34m\u001b[0m\u001b[0m\n\u001b[1;32m     14\u001b[0m   \u001b[0mloss\u001b[0m \u001b[0;34m=\u001b[0m \u001b[0mF\u001b[0m\u001b[0;34m.\u001b[0m\u001b[0mnll_loss\u001b[0m\u001b[0;34m(\u001b[0m\u001b[0moutput\u001b[0m\u001b[0;34m,\u001b[0m \u001b[0mtarget\u001b[0m\u001b[0;34m)\u001b[0m\u001b[0;34m\u001b[0m\u001b[0;34m\u001b[0m\u001b[0m\n",
            "\u001b[0;32m/usr/local/lib/python3.6/dist-packages/torch/nn/modules/module.py\u001b[0m in \u001b[0;36m__call__\u001b[0;34m(self, *input, **kwargs)\u001b[0m\n\u001b[1;32m    548\u001b[0m             \u001b[0mresult\u001b[0m \u001b[0;34m=\u001b[0m \u001b[0mself\u001b[0m\u001b[0;34m.\u001b[0m\u001b[0m_slow_forward\u001b[0m\u001b[0;34m(\u001b[0m\u001b[0;34m*\u001b[0m\u001b[0minput\u001b[0m\u001b[0;34m,\u001b[0m \u001b[0;34m**\u001b[0m\u001b[0mkwargs\u001b[0m\u001b[0;34m)\u001b[0m\u001b[0;34m\u001b[0m\u001b[0;34m\u001b[0m\u001b[0m\n\u001b[1;32m    549\u001b[0m         \u001b[0;32melse\u001b[0m\u001b[0;34m:\u001b[0m\u001b[0;34m\u001b[0m\u001b[0;34m\u001b[0m\u001b[0m\n\u001b[0;32m--> 550\u001b[0;31m             \u001b[0mresult\u001b[0m \u001b[0;34m=\u001b[0m \u001b[0mself\u001b[0m\u001b[0;34m.\u001b[0m\u001b[0mforward\u001b[0m\u001b[0;34m(\u001b[0m\u001b[0;34m*\u001b[0m\u001b[0minput\u001b[0m\u001b[0;34m,\u001b[0m \u001b[0;34m**\u001b[0m\u001b[0mkwargs\u001b[0m\u001b[0;34m)\u001b[0m\u001b[0;34m\u001b[0m\u001b[0;34m\u001b[0m\u001b[0m\n\u001b[0m\u001b[1;32m    551\u001b[0m         \u001b[0;32mfor\u001b[0m \u001b[0mhook\u001b[0m \u001b[0;32min\u001b[0m \u001b[0mself\u001b[0m\u001b[0;34m.\u001b[0m\u001b[0m_forward_hooks\u001b[0m\u001b[0;34m.\u001b[0m\u001b[0mvalues\u001b[0m\u001b[0;34m(\u001b[0m\u001b[0;34m)\u001b[0m\u001b[0;34m:\u001b[0m\u001b[0;34m\u001b[0m\u001b[0;34m\u001b[0m\u001b[0m\n\u001b[1;32m    552\u001b[0m             \u001b[0mhook_result\u001b[0m \u001b[0;34m=\u001b[0m \u001b[0mhook\u001b[0m\u001b[0;34m(\u001b[0m\u001b[0mself\u001b[0m\u001b[0;34m,\u001b[0m \u001b[0minput\u001b[0m\u001b[0;34m,\u001b[0m \u001b[0mresult\u001b[0m\u001b[0;34m)\u001b[0m\u001b[0;34m\u001b[0m\u001b[0;34m\u001b[0m\u001b[0m\n",
            "\u001b[0;32m<ipython-input-6-a19ddb05e7f0>\u001b[0m in \u001b[0;36mforward\u001b[0;34m(self, x)\u001b[0m\n\u001b[1;32m     32\u001b[0m     \u001b[0mbatch_size\u001b[0m\u001b[0;34m,\u001b[0m \u001b[0mtimesteps\u001b[0m\u001b[0;34m,\u001b[0m \u001b[0mC\u001b[0m\u001b[0;34m,\u001b[0m \u001b[0mH\u001b[0m\u001b[0;34m,\u001b[0m \u001b[0mW\u001b[0m \u001b[0;34m=\u001b[0m \u001b[0mx\u001b[0m\u001b[0;34m.\u001b[0m\u001b[0msize\u001b[0m\u001b[0;34m(\u001b[0m\u001b[0;34m)\u001b[0m\u001b[0;34m\u001b[0m\u001b[0;34m\u001b[0m\u001b[0m\n\u001b[1;32m     33\u001b[0m     \u001b[0mc_in\u001b[0m \u001b[0;34m=\u001b[0m \u001b[0mx\u001b[0m\u001b[0;34m.\u001b[0m\u001b[0mview\u001b[0m\u001b[0;34m(\u001b[0m\u001b[0mbatch_size\u001b[0m \u001b[0;34m*\u001b[0m \u001b[0mtimesteps\u001b[0m\u001b[0;34m,\u001b[0m \u001b[0mC\u001b[0m\u001b[0;34m,\u001b[0m \u001b[0mH\u001b[0m\u001b[0;34m,\u001b[0m \u001b[0mW\u001b[0m\u001b[0;34m)\u001b[0m\u001b[0;34m\u001b[0m\u001b[0;34m\u001b[0m\u001b[0m\n\u001b[0;32m---> 34\u001b[0;31m     \u001b[0mc_out\u001b[0m \u001b[0;34m=\u001b[0m \u001b[0mself\u001b[0m\u001b[0;34m.\u001b[0m\u001b[0mcnn\u001b[0m\u001b[0;34m(\u001b[0m\u001b[0mc_in\u001b[0m\u001b[0;34m)\u001b[0m\u001b[0;34m\u001b[0m\u001b[0;34m\u001b[0m\u001b[0m\n\u001b[0m\u001b[1;32m     35\u001b[0m     \u001b[0mr_in\u001b[0m \u001b[0;34m=\u001b[0m \u001b[0mc_out\u001b[0m\u001b[0;34m.\u001b[0m\u001b[0mview\u001b[0m\u001b[0;34m(\u001b[0m\u001b[0mbatch_size\u001b[0m\u001b[0;34m,\u001b[0m \u001b[0mtimesteps\u001b[0m\u001b[0;34m,\u001b[0m \u001b[0;34m-\u001b[0m\u001b[0;36m1\u001b[0m\u001b[0;34m)\u001b[0m\u001b[0;34m\u001b[0m\u001b[0;34m\u001b[0m\u001b[0m\n\u001b[1;32m     36\u001b[0m     \u001b[0mr_out\u001b[0m\u001b[0;34m,\u001b[0m \u001b[0;34m(\u001b[0m\u001b[0mh_n\u001b[0m\u001b[0;34m,\u001b[0m \u001b[0mh_c\u001b[0m\u001b[0;34m)\u001b[0m \u001b[0;34m=\u001b[0m \u001b[0mself\u001b[0m\u001b[0;34m.\u001b[0m\u001b[0mrnn\u001b[0m\u001b[0;34m(\u001b[0m\u001b[0mr_in\u001b[0m\u001b[0;34m)\u001b[0m\u001b[0;34m\u001b[0m\u001b[0;34m\u001b[0m\u001b[0m\n",
            "\u001b[0;32m/usr/local/lib/python3.6/dist-packages/torch/nn/modules/module.py\u001b[0m in \u001b[0;36m__call__\u001b[0;34m(self, *input, **kwargs)\u001b[0m\n\u001b[1;32m    548\u001b[0m             \u001b[0mresult\u001b[0m \u001b[0;34m=\u001b[0m \u001b[0mself\u001b[0m\u001b[0;34m.\u001b[0m\u001b[0m_slow_forward\u001b[0m\u001b[0;34m(\u001b[0m\u001b[0;34m*\u001b[0m\u001b[0minput\u001b[0m\u001b[0;34m,\u001b[0m \u001b[0;34m**\u001b[0m\u001b[0mkwargs\u001b[0m\u001b[0;34m)\u001b[0m\u001b[0;34m\u001b[0m\u001b[0;34m\u001b[0m\u001b[0m\n\u001b[1;32m    549\u001b[0m         \u001b[0;32melse\u001b[0m\u001b[0;34m:\u001b[0m\u001b[0;34m\u001b[0m\u001b[0;34m\u001b[0m\u001b[0m\n\u001b[0;32m--> 550\u001b[0;31m             \u001b[0mresult\u001b[0m \u001b[0;34m=\u001b[0m \u001b[0mself\u001b[0m\u001b[0;34m.\u001b[0m\u001b[0mforward\u001b[0m\u001b[0;34m(\u001b[0m\u001b[0;34m*\u001b[0m\u001b[0minput\u001b[0m\u001b[0;34m,\u001b[0m \u001b[0;34m**\u001b[0m\u001b[0mkwargs\u001b[0m\u001b[0;34m)\u001b[0m\u001b[0;34m\u001b[0m\u001b[0;34m\u001b[0m\u001b[0m\n\u001b[0m\u001b[1;32m    551\u001b[0m         \u001b[0;32mfor\u001b[0m \u001b[0mhook\u001b[0m \u001b[0;32min\u001b[0m \u001b[0mself\u001b[0m\u001b[0;34m.\u001b[0m\u001b[0m_forward_hooks\u001b[0m\u001b[0;34m.\u001b[0m\u001b[0mvalues\u001b[0m\u001b[0;34m(\u001b[0m\u001b[0;34m)\u001b[0m\u001b[0;34m:\u001b[0m\u001b[0;34m\u001b[0m\u001b[0;34m\u001b[0m\u001b[0m\n\u001b[1;32m    552\u001b[0m             \u001b[0mhook_result\u001b[0m \u001b[0;34m=\u001b[0m \u001b[0mhook\u001b[0m\u001b[0;34m(\u001b[0m\u001b[0mself\u001b[0m\u001b[0;34m,\u001b[0m \u001b[0minput\u001b[0m\u001b[0;34m,\u001b[0m \u001b[0mresult\u001b[0m\u001b[0;34m)\u001b[0m\u001b[0;34m\u001b[0m\u001b[0;34m\u001b[0m\u001b[0m\n",
            "\u001b[0;32m<ipython-input-6-a19ddb05e7f0>\u001b[0m in \u001b[0;36mforward\u001b[0;34m(self, x)\u001b[0m\n\u001b[1;32m      9\u001b[0m \u001b[0;34m\u001b[0m\u001b[0m\n\u001b[1;32m     10\u001b[0m   \u001b[0;32mdef\u001b[0m \u001b[0mforward\u001b[0m\u001b[0;34m(\u001b[0m\u001b[0mself\u001b[0m\u001b[0;34m,\u001b[0m \u001b[0mx\u001b[0m\u001b[0;34m)\u001b[0m\u001b[0;34m:\u001b[0m\u001b[0;34m\u001b[0m\u001b[0;34m\u001b[0m\u001b[0m\n\u001b[0;32m---> 11\u001b[0;31m     \u001b[0mx\u001b[0m \u001b[0;34m=\u001b[0m \u001b[0mF\u001b[0m\u001b[0;34m.\u001b[0m\u001b[0mrelu\u001b[0m\u001b[0;34m(\u001b[0m\u001b[0mF\u001b[0m\u001b[0;34m.\u001b[0m\u001b[0mmax_pool2d\u001b[0m\u001b[0;34m(\u001b[0m\u001b[0mself\u001b[0m\u001b[0;34m.\u001b[0m\u001b[0mconv1\u001b[0m\u001b[0;34m(\u001b[0m\u001b[0mx\u001b[0m\u001b[0;34m)\u001b[0m\u001b[0;34m,\u001b[0m \u001b[0;36m2\u001b[0m\u001b[0;34m)\u001b[0m\u001b[0;34m)\u001b[0m\u001b[0;34m\u001b[0m\u001b[0;34m\u001b[0m\u001b[0m\n\u001b[0m\u001b[1;32m     12\u001b[0m     \u001b[0mx\u001b[0m \u001b[0;34m=\u001b[0m \u001b[0mF\u001b[0m\u001b[0;34m.\u001b[0m\u001b[0mrelu\u001b[0m\u001b[0;34m(\u001b[0m\u001b[0mF\u001b[0m\u001b[0;34m.\u001b[0m\u001b[0mmax_pool2d\u001b[0m\u001b[0;34m(\u001b[0m\u001b[0mself\u001b[0m\u001b[0;34m.\u001b[0m\u001b[0mconv2_drop\u001b[0m\u001b[0;34m(\u001b[0m\u001b[0mself\u001b[0m\u001b[0;34m.\u001b[0m\u001b[0mconv2\u001b[0m\u001b[0;34m(\u001b[0m\u001b[0mx\u001b[0m\u001b[0;34m)\u001b[0m\u001b[0;34m)\u001b[0m\u001b[0;34m,\u001b[0m \u001b[0;36m2\u001b[0m\u001b[0;34m)\u001b[0m\u001b[0;34m)\u001b[0m\u001b[0;34m\u001b[0m\u001b[0;34m\u001b[0m\u001b[0m\n\u001b[1;32m     13\u001b[0m     \u001b[0mx\u001b[0m \u001b[0;34m=\u001b[0m \u001b[0mx\u001b[0m\u001b[0;34m.\u001b[0m\u001b[0mview\u001b[0m\u001b[0;34m(\u001b[0m\u001b[0;34m-\u001b[0m\u001b[0;36m1\u001b[0m\u001b[0;34m,\u001b[0m \u001b[0;36m320\u001b[0m\u001b[0;34m)\u001b[0m\u001b[0;34m\u001b[0m\u001b[0;34m\u001b[0m\u001b[0m\n",
            "\u001b[0;32m/usr/local/lib/python3.6/dist-packages/torch/nn/modules/module.py\u001b[0m in \u001b[0;36m__call__\u001b[0;34m(self, *input, **kwargs)\u001b[0m\n\u001b[1;32m    548\u001b[0m             \u001b[0mresult\u001b[0m \u001b[0;34m=\u001b[0m \u001b[0mself\u001b[0m\u001b[0;34m.\u001b[0m\u001b[0m_slow_forward\u001b[0m\u001b[0;34m(\u001b[0m\u001b[0;34m*\u001b[0m\u001b[0minput\u001b[0m\u001b[0;34m,\u001b[0m \u001b[0;34m**\u001b[0m\u001b[0mkwargs\u001b[0m\u001b[0;34m)\u001b[0m\u001b[0;34m\u001b[0m\u001b[0;34m\u001b[0m\u001b[0m\n\u001b[1;32m    549\u001b[0m         \u001b[0;32melse\u001b[0m\u001b[0;34m:\u001b[0m\u001b[0;34m\u001b[0m\u001b[0;34m\u001b[0m\u001b[0m\n\u001b[0;32m--> 550\u001b[0;31m             \u001b[0mresult\u001b[0m \u001b[0;34m=\u001b[0m \u001b[0mself\u001b[0m\u001b[0;34m.\u001b[0m\u001b[0mforward\u001b[0m\u001b[0;34m(\u001b[0m\u001b[0;34m*\u001b[0m\u001b[0minput\u001b[0m\u001b[0;34m,\u001b[0m \u001b[0;34m**\u001b[0m\u001b[0mkwargs\u001b[0m\u001b[0;34m)\u001b[0m\u001b[0;34m\u001b[0m\u001b[0;34m\u001b[0m\u001b[0m\n\u001b[0m\u001b[1;32m    551\u001b[0m         \u001b[0;32mfor\u001b[0m \u001b[0mhook\u001b[0m \u001b[0;32min\u001b[0m \u001b[0mself\u001b[0m\u001b[0;34m.\u001b[0m\u001b[0m_forward_hooks\u001b[0m\u001b[0;34m.\u001b[0m\u001b[0mvalues\u001b[0m\u001b[0;34m(\u001b[0m\u001b[0;34m)\u001b[0m\u001b[0;34m:\u001b[0m\u001b[0;34m\u001b[0m\u001b[0;34m\u001b[0m\u001b[0m\n\u001b[1;32m    552\u001b[0m             \u001b[0mhook_result\u001b[0m \u001b[0;34m=\u001b[0m \u001b[0mhook\u001b[0m\u001b[0;34m(\u001b[0m\u001b[0mself\u001b[0m\u001b[0;34m,\u001b[0m \u001b[0minput\u001b[0m\u001b[0;34m,\u001b[0m \u001b[0mresult\u001b[0m\u001b[0;34m)\u001b[0m\u001b[0;34m\u001b[0m\u001b[0;34m\u001b[0m\u001b[0m\n",
            "\u001b[0;32m/usr/local/lib/python3.6/dist-packages/torch/nn/modules/conv.py\u001b[0m in \u001b[0;36mforward\u001b[0;34m(self, input)\u001b[0m\n\u001b[1;32m    347\u001b[0m \u001b[0;34m\u001b[0m\u001b[0m\n\u001b[1;32m    348\u001b[0m     \u001b[0;32mdef\u001b[0m \u001b[0mforward\u001b[0m\u001b[0;34m(\u001b[0m\u001b[0mself\u001b[0m\u001b[0;34m,\u001b[0m \u001b[0minput\u001b[0m\u001b[0;34m)\u001b[0m\u001b[0;34m:\u001b[0m\u001b[0;34m\u001b[0m\u001b[0;34m\u001b[0m\u001b[0m\n\u001b[0;32m--> 349\u001b[0;31m         \u001b[0;32mreturn\u001b[0m \u001b[0mself\u001b[0m\u001b[0;34m.\u001b[0m\u001b[0m_conv_forward\u001b[0m\u001b[0;34m(\u001b[0m\u001b[0minput\u001b[0m\u001b[0;34m,\u001b[0m \u001b[0mself\u001b[0m\u001b[0;34m.\u001b[0m\u001b[0mweight\u001b[0m\u001b[0;34m)\u001b[0m\u001b[0;34m\u001b[0m\u001b[0;34m\u001b[0m\u001b[0m\n\u001b[0m\u001b[1;32m    350\u001b[0m \u001b[0;34m\u001b[0m\u001b[0m\n\u001b[1;32m    351\u001b[0m \u001b[0;32mclass\u001b[0m \u001b[0mConv3d\u001b[0m\u001b[0;34m(\u001b[0m\u001b[0m_ConvNd\u001b[0m\u001b[0;34m)\u001b[0m\u001b[0;34m:\u001b[0m\u001b[0;34m\u001b[0m\u001b[0;34m\u001b[0m\u001b[0m\n",
            "\u001b[0;32m/usr/local/lib/python3.6/dist-packages/torch/nn/modules/conv.py\u001b[0m in \u001b[0;36m_conv_forward\u001b[0;34m(self, input, weight)\u001b[0m\n\u001b[1;32m    344\u001b[0m                             _pair(0), self.dilation, self.groups)\n\u001b[1;32m    345\u001b[0m         return F.conv2d(input, weight, self.bias, self.stride,\n\u001b[0;32m--> 346\u001b[0;31m                         self.padding, self.dilation, self.groups)\n\u001b[0m\u001b[1;32m    347\u001b[0m \u001b[0;34m\u001b[0m\u001b[0m\n\u001b[1;32m    348\u001b[0m     \u001b[0;32mdef\u001b[0m \u001b[0mforward\u001b[0m\u001b[0;34m(\u001b[0m\u001b[0mself\u001b[0m\u001b[0;34m,\u001b[0m \u001b[0minput\u001b[0m\u001b[0;34m)\u001b[0m\u001b[0;34m:\u001b[0m\u001b[0;34m\u001b[0m\u001b[0;34m\u001b[0m\u001b[0m\n",
            "\u001b[0;31mRuntimeError\u001b[0m: CUDA out of memory. Tried to allocate 20.68 GiB (GPU 0; 15.90 GiB total capacity; 283.89 MiB already allocated; 14.92 GiB free; 288.00 MiB reserved in total by PyTorch)"
          ]
        }
      ]
    },
    {
      "cell_type": "markdown",
      "metadata": {
        "id": "wxw5qBmnElag",
        "colab_type": "text"
      },
      "source": [
        "# ConvLSTM-Attention"
      ]
    },
    {
      "cell_type": "code",
      "metadata": {
        "id": "svDbuzaPE5_o",
        "colab_type": "code",
        "colab": {}
      },
      "source": [
        "from MakeDatasetRGB import *\n",
        "from spatial_transforms import *\n",
        "from objectAttentionModelConvLSTM import *\n",
        "\n",
        "normalize = Normalize(mean=[0.485, 0.456, 0.406], std=[0.229, 0.224, 0.225])\n",
        "spatial_transform = Compose([Scale(256), RandomHorizontalFlip(), MultiScaleCornerCrop([1, 0.875, 0.75, 0.65625], 224),\n",
        "                                 ToTensor(), normalize])\n",
        "    \n",
        "DIR = 'GTEA61/processed_frames2' \n",
        "seqLen = 7\n",
        "training_folders = [1,3,4]\n",
        "train_dataset = makeDatasetRGB(DIR, spatial_transform=spatial_transform, seqLen=seqLen, fmt='.png', folders=training_folders)\n",
        "train_loader = torch.utils.data.DataLoader(train_dataset, batch_size=BATCH_SIZE, shuffle=True, num_workers=4, pin_memory=True)\n",
        "\n",
        "val_transform = Compose([Scale(256), CenterCrop(224), ToTensor(), normalize])\n",
        "validation = False\n",
        "if(validation):\n",
        "  validation_folders = [3]\n",
        "  val_dataset = makeDatasetRGB(DIR, spatial_transform=val_transform , seqLen=seqLen, fmt='.png', folders=validation_folders)\n",
        "  val_loader = torch.utils.data.DataLoader(val_dataset, batch_size=BATCH_SIZE, shuffle=True, num_workers=2, pin_memory=True)\n",
        "\n",
        "\n",
        "testing_folders = [2]\n",
        "test_dataset = makeDatasetRGB(DIR, spatial_transform=val_transform, seqLen=seqLen, fmt='.png', folders=testing_folders)\n",
        "test_loader = torch.utils.data.DataLoader(test_dataset, batch_size=1, shuffle=True, num_workers=2, pin_memory=True)\n"
      ],
      "execution_count": 0,
      "outputs": []
    },
    {
      "cell_type": "code",
      "metadata": {
        "id": "qCMO57ARQ2Da",
        "colab_type": "code",
        "colab": {}
      },
      "source": [
        "def PrepareTraining(stage, path=''):\n",
        "  train_params = []\n",
        "  if stage == 1:\n",
        "\n",
        "      model = attentionModel(num_classes=NUM_CLASSES, mem_size=MEM_SIZE)\n",
        "      model.train(False)\n",
        "      for params in model.parameters():\n",
        "          params.requires_grad = False\n",
        "  else:\n",
        "\n",
        "      model = attentionModel(num_classes=NUM_CLASSES, mem_size=MEM_SIZE)\n",
        "      stage1_dict = path\n",
        "      model.load_state_dict(torch.load(stage1_dict))\n",
        "      model.train(False)\n",
        "      for params in model.parameters():\n",
        "          params.requires_grad = False\n",
        "      #\n",
        "      for params in model.resNet.layer4[0].conv1.parameters():\n",
        "          params.requires_grad = True\n",
        "          train_params += [params]\n",
        "\n",
        "      for params in model.resNet.layer4[0].conv2.parameters():\n",
        "          params.requires_grad = True\n",
        "          train_params += [params]\n",
        "\n",
        "      for params in model.resNet.layer4[1].conv1.parameters():\n",
        "          params.requires_grad = True\n",
        "          train_params += [params]\n",
        "\n",
        "      for params in model.resNet.layer4[1].conv2.parameters():\n",
        "          params.requires_grad = True\n",
        "          train_params += [params]\n",
        "\n",
        "      for params in model.resNet.layer4[2].conv1.parameters():\n",
        "          params.requires_grad = True\n",
        "          train_params += [params]\n",
        "      #\n",
        "      for params in model.resNet.layer4[2].conv2.parameters():\n",
        "          params.requires_grad = True\n",
        "          train_params += [params]\n",
        "      #\n",
        "      for params in model.resNet.fc.parameters():\n",
        "          params.requires_grad = True\n",
        "          train_params += [params]\n",
        "\n",
        "      model.resNet.layer4[0].conv1.train(True)\n",
        "      model.resNet.layer4[0].conv2.train(True)\n",
        "      model.resNet.layer4[1].conv1.train(True)\n",
        "      model.resNet.layer4[1].conv2.train(True)\n",
        "      model.resNet.layer4[2].conv1.train(True)\n",
        "      model.resNet.layer4[2].conv2.train(True)\n",
        "      model.resNet.fc.train(True)\n",
        "\n",
        "  for params in model.lstm_cell.parameters():\n",
        "      params.requires_grad = True\n",
        "      train_params += [params]\n",
        "\n",
        "  for params in model.classifier.parameters():\n",
        "      params.requires_grad = True\n",
        "      train_params += [params]\n",
        "\n",
        "  return model, train_params"
      ],
      "execution_count": 0,
      "outputs": []
    },
    {
      "cell_type": "code",
      "metadata": {
        "id": "nNv8VV5XAoBv",
        "colab_type": "code",
        "colab": {}
      },
      "source": [
        "stage = 1\n",
        "NUM_EPOCHS = 200\n",
        "lr1 = 1e-3\n",
        "decay_step = [25, 75, 150]\n",
        "decay_factor = 0.1\n",
        "\n",
        "model, train_params = PrepareTraining(stage)\n",
        "\n",
        "model.to(DEVICE)\n",
        "\n",
        "loss_fn = nn.CrossEntropyLoss()\n",
        "optimizer_fn = torch.optim.Adam(train_params, lr=lr1, weight_decay=4e-5, eps=1e-4)\n",
        "optim_scheduler = torch.optim.lr_scheduler.MultiStepLR(optimizer_fn, milestones=decay_step, gamma=decay_factor)"
      ],
      "execution_count": 0,
      "outputs": []
    },
    {
      "cell_type": "markdown",
      "metadata": {
        "id": "tWNOSxfjL7hJ",
        "colab_type": "text"
      },
      "source": [
        "TRAINING (STAGE 1)"
      ]
    },
    {
      "cell_type": "code",
      "metadata": {
        "id": "tr1XxBY_L-fK",
        "colab_type": "code",
        "colab": {}
      },
      "source": [
        "def TrainingRGB():\n",
        "  train_iter = 0\n",
        "  min_accuracy = 0\n",
        "\n",
        "  train = []\n",
        "  val = []\n",
        "  best_acc = -1\n",
        "  for epoch in range(NUM_EPOCHS):\n",
        "      epoch_loss = 0\n",
        "      numCorrTrain = 0\n",
        "      trainSamples = 0\n",
        "      iterPerEpoch = 0\n",
        "      model.lstm_cell.train(True)\n",
        "      model.classifier.train(True)\n",
        "      #writer.add_scalar('lr', optimizer_fn.param_groups[0]['lr'], epoch+1)\n",
        "      if stage == 2:\n",
        "          model.resNet.layer4[0].conv1.train(True)\n",
        "          model.resNet.layer4[0].conv2.train(True)\n",
        "          model.resNet.layer4[1].conv1.train(True)\n",
        "          model.resNet.layer4[1].conv2.train(True)\n",
        "          model.resNet.layer4[2].conv1.train(True)\n",
        "          model.resNet.layer4[2].conv2.train(True)\n",
        "          model.resNet.fc.train(True)\n",
        "      for i, (inputs, targets) in enumerate(train_loader):\n",
        "          train_iter += 1\n",
        "          iterPerEpoch += 1\n",
        "          optimizer_fn.zero_grad()\n",
        "          print(inputs.size())\n",
        "          inputVariable = Variable(inputs.permute(1, 0, 2, 3, 4).to(DEVICE))\n",
        "          print(inputVariable.size())\n",
        "          break\n",
        "          labelVariable = Variable(targets.to(DEVICE))\n",
        "          trainSamples += inputs.size(0)\n",
        "          output_label, _ = model(inputVariable)\n",
        "          loss = loss_fn(output_label, labelVariable)\n",
        "          loss.backward()\n",
        "          optimizer_fn.step()\n",
        "          _, predicted = torch.max(output_label.data, 1)\n",
        "\n",
        "          predicted = predicted.to(DEVICE)\n",
        "          numCorrTrain += torch.sum(predicted == labelVariable).data.item()\n",
        "          \n",
        "          #numCorrTrain += (predicted == targets.cuda()).sum()\n",
        "          epoch_loss += loss.item()\n",
        "      avg_loss = epoch_loss/iterPerEpoch\n",
        "      trainAccuracy = (numCorrTrain / trainSamples)\n",
        "\n",
        "      print('Train: Epoch = {}/{} | Loss = {} | Accuracy = {}'.format(epoch+1, NUM_EPOCHS, avg_loss, trainAccuracy))\n",
        "\n",
        "      max_loss = 6\n",
        "      avg_loss_normalized = avg_loss if avg_loss < max_loss else max_loss\n",
        "      train.append( (trainAccuracy,avg_loss_normalized) )\n",
        "\n",
        "      optim_scheduler.step()\n",
        "      #writer.add_scalar('train/epoch_loss', avg_loss, epoch+1)\n",
        "      #writer.add_scalar('train/accuracy', trainAccuracy, epoch+1)      \n",
        "      \n",
        "      if(validation):\n",
        "        if(epoch+1) % VAL_FREQUENCY == 0:\n",
        "          model.train(False)\n",
        "          val_loss_epoch = 0\n",
        "          val_iter = 0\n",
        "          val_samples = 0\n",
        "          numCorr = 0\n",
        "          for j, (inputs, targets) in enumerate(val_loader):\n",
        "            val_iter += 1\n",
        "            val_samples += inputs.size(0)\n",
        "            inputVariable = Variable(inputs.permute(1, 0, 2, 3, 4).cuda(), volatile=True)\n",
        "            labelVariable = Variable(targets.cuda(async=True), volatile=True)\n",
        "            output_label, _ = model(inputVariable)\n",
        "            val_loss = loss_fn(output_label, labelVariable)\n",
        "            val_loss_epoch += val_loss.item()\n",
        "            _, predicted = torch.max(output_label.data, 1)\n",
        "            numCorr += torch.sum(predicted == labelVariable).data.item()\n",
        "          val_accuracy = (numCorr / val_samples)\n",
        "          avg_val_loss = val_loss_epoch / val_iter\n",
        "          print('*****  Val: Epoch = {} | Loss {} | Accuracy = {} *****'.format(epoch + 1, avg_val_loss, val_accuracy))\n",
        "\n",
        "          avg_val_loss_normalized = avg_val_loss if avg_val_loss < max_loss else max_loss\n",
        "          val.append( (val_accuracy,avg_val_loss_normalized) )\n",
        "          #writer.add_scalar('val/epoch_loss', avg_val_loss, epoch + 1)\n",
        "          #writer.add_scalar('val/accuracy', val_accuracy, epoch + 1)\n",
        "          #val_log_loss.write('Val Loss after {} epochs = {}\\n'.format(epoch + 1, avg_val_loss))\n",
        "          #val_log_acc.write('Val Accuracy after {} epochs = {}%\\n'.format(epoch + 1, val_accuracy))\n",
        "          if val_accuracy > min_accuracy:\n",
        "            save_path_model = (PATH_MODELS + '/best_model_rgb_state_dict.pth')\n",
        "            torch.save(model.state_dict(), save_path_model)\n",
        "            min_accuracy = val_accuracy\n",
        "      \n",
        "      if (numCorrTrain>best_acc):\n",
        "        best_acc = numCorrTrain\n",
        "        save_path_model = (PATH_MODELS + '/model_rgb_state_dict_epoch' + '_stage' + str(stage) + '.pth')\n",
        "        torch.save(model.state_dict(), save_path_model)\n",
        "          \n",
        "  return train, val"
      ],
      "execution_count": 0,
      "outputs": []
    },
    {
      "cell_type": "code",
      "metadata": {
        "id": "GvE5Bb-xSOqq",
        "colab_type": "code",
        "outputId": "a6f892b3-9661-452d-fa98-82abc6397e80",
        "colab": {
          "base_uri": "https://localhost:8080/",
          "height": 335
        }
      },
      "source": [
        "train_rgb, val_rgb = TrainingRGB()"
      ],
      "execution_count": 0,
      "outputs": [
        {
          "output_type": "stream",
          "text": [
            "torch.Size([32, 7, 3, 224, 224])\n",
            "torch.Size([7, 32, 3, 224, 224])\n"
          ],
          "name": "stdout"
        },
        {
          "output_type": "error",
          "ename": "ZeroDivisionError",
          "evalue": "ignored",
          "traceback": [
            "\u001b[0;31m---------------------------------------------------------------------------\u001b[0m",
            "\u001b[0;31mZeroDivisionError\u001b[0m                         Traceback (most recent call last)",
            "\u001b[0;32m<ipython-input-16-643c1286243c>\u001b[0m in \u001b[0;36m<module>\u001b[0;34m()\u001b[0m\n\u001b[0;32m----> 1\u001b[0;31m \u001b[0mtrain_rgb\u001b[0m\u001b[0;34m,\u001b[0m \u001b[0mval_rgb\u001b[0m \u001b[0;34m=\u001b[0m \u001b[0mTrainingRGB\u001b[0m\u001b[0;34m(\u001b[0m\u001b[0;34m)\u001b[0m\u001b[0;34m\u001b[0m\u001b[0;34m\u001b[0m\u001b[0m\n\u001b[0m",
            "\u001b[0;32m<ipython-input-15-f96ace9f43ef>\u001b[0m in \u001b[0;36mTrainingRGB\u001b[0;34m()\u001b[0m\n\u001b[1;32m     44\u001b[0m           \u001b[0mepoch_loss\u001b[0m \u001b[0;34m+=\u001b[0m \u001b[0mloss\u001b[0m\u001b[0;34m.\u001b[0m\u001b[0mitem\u001b[0m\u001b[0;34m(\u001b[0m\u001b[0;34m)\u001b[0m\u001b[0;34m\u001b[0m\u001b[0;34m\u001b[0m\u001b[0m\n\u001b[1;32m     45\u001b[0m       \u001b[0mavg_loss\u001b[0m \u001b[0;34m=\u001b[0m \u001b[0mepoch_loss\u001b[0m\u001b[0;34m/\u001b[0m\u001b[0miterPerEpoch\u001b[0m\u001b[0;34m\u001b[0m\u001b[0;34m\u001b[0m\u001b[0m\n\u001b[0;32m---> 46\u001b[0;31m       \u001b[0mtrainAccuracy\u001b[0m \u001b[0;34m=\u001b[0m \u001b[0;34m(\u001b[0m\u001b[0mnumCorrTrain\u001b[0m \u001b[0;34m/\u001b[0m \u001b[0mtrainSamples\u001b[0m\u001b[0;34m)\u001b[0m\u001b[0;34m\u001b[0m\u001b[0;34m\u001b[0m\u001b[0m\n\u001b[0m\u001b[1;32m     47\u001b[0m \u001b[0;34m\u001b[0m\u001b[0m\n\u001b[1;32m     48\u001b[0m       \u001b[0mprint\u001b[0m\u001b[0;34m(\u001b[0m\u001b[0;34m'Train: Epoch = {}/{} | Loss = {} | Accuracy = {}'\u001b[0m\u001b[0;34m.\u001b[0m\u001b[0mformat\u001b[0m\u001b[0;34m(\u001b[0m\u001b[0mepoch\u001b[0m\u001b[0;34m+\u001b[0m\u001b[0;36m1\u001b[0m\u001b[0;34m,\u001b[0m \u001b[0mNUM_EPOCHS\u001b[0m\u001b[0;34m,\u001b[0m \u001b[0mavg_loss\u001b[0m\u001b[0;34m,\u001b[0m \u001b[0mtrainAccuracy\u001b[0m\u001b[0;34m)\u001b[0m\u001b[0;34m)\u001b[0m\u001b[0;34m\u001b[0m\u001b[0;34m\u001b[0m\u001b[0m\n",
            "\u001b[0;31mZeroDivisionError\u001b[0m: division by zero"
          ]
        }
      ]
    },
    {
      "cell_type": "code",
      "metadata": {
        "id": "lbmlIThozEus",
        "colab_type": "code",
        "outputId": "d6a67a1e-adf7-44cb-b35b-d1b3f42105d1",
        "colab": {
          "base_uri": "https://localhost:8080/",
          "height": 535
        }
      },
      "source": [
        "meta_rgb = 'Training RGB Model (Stage 1)'\n",
        "PlotAccuracyLoss(train_rgb, val_rgb, meta_rgb)"
      ],
      "execution_count": 0,
      "outputs": [
        {
          "output_type": "display_data",
          "data": {
            "image/png": "[encoded data removed]",
            "text/plain": [
              "<Figure size 936x504 with 2 Axes>"
            ]
          },
          "metadata": {
            "tags": [],
            "needs_background": "light"
          }
        },
        {
          "output_type": "stream",
          "text": [
            "Min Loss: Train: 1.545733\n",
            "Max Accuracy: Train: 0.575581\n"
          ],
          "name": "stdout"
        }
      ]
    },
    {
      "cell_type": "code",
      "metadata": {
        "id": "qq-1zU5guFGc",
        "colab_type": "code",
        "colab": {}
      },
      "source": [
        "from sklearn.metrics import confusion_matrix\n",
        "def TestRGB(model):\n",
        "  for params in model.parameters():\n",
        "      params.requires_grad = False\n",
        "\n",
        "  model.train(False)\n",
        "  model.to(DEVICE)\n",
        "  test_samples = test_dataset.__len__()\n",
        "  print('Number of samples = {}'.format(test_samples))\n",
        "  print('Evaluating...')\n",
        "  numCorr = 0\n",
        "  true_labels = []\n",
        "  predicted_labels = []\n",
        "  for j, (inputs, targets) in enumerate(test_loader):\n",
        "    inputVariable = Variable(inputs.permute(1, 0, 2, 3, 4).to(DEVICE), volatile=True)\n",
        "    output_label, _ = model(inputVariable)\n",
        "    _, predicted = torch.max(output_label.data, 1)\n",
        "    predicted = predicted.to(DEVICE)\n",
        "    numCorr += torch.sum(predicted == targets.to(DEVICE)).data.item()\n",
        "    true_labels.append(targets)\n",
        "    predicted_labels.append(predicted)\n",
        "  test_accuracy = (numCorr / test_samples)\n",
        "  print('Test Accuracy = {}%'.format(test_accuracy))\n",
        "\n",
        "  cnf_matrix = confusion_matrix([f.item() for f in true_labels], [f.item() for f in predicted_labels]).astype(float)\n",
        "  cnf_matrix_normalized = cnf_matrix / cnf_matrix.sum(axis=1)[:, np.newaxis]\n",
        "\n",
        "  ticks = np.linspace(0, 60, num=61)\n",
        "  plt.imshow(cnf_matrix_normalized, interpolation='none', cmap='binary')\n",
        "  plt.colorbar()\n",
        "  plt.xticks(ticks, fontsize=6)\n",
        "  plt.yticks(ticks, fontsize=6)\n",
        "  plt.grid(True)\n",
        "  plt.clim(0, 1)\n",
        "  #plt.savefig('-rgb.png', bbox_inches='tight')\n",
        "  plt.show()"
      ],
      "execution_count": 0,
      "outputs": []
    },
    {
      "cell_type": "code",
      "metadata": {
        "id": "p5QC5Vm3xgrN",
        "colab_type": "code",
        "outputId": "5eb051ca-94ed-4425-d7a1-c6c66e53614c",
        "colab": {
          "base_uri": "https://localhost:8080/",
          "height": 430
        }
      },
      "source": [
        "model = attentionModel(num_classes=NUM_CLASSES, mem_size=MEM_SIZE)\n",
        "#model_state_dict = PATH_MODELS + '/best_model_rgb_state_dict.pth'\n",
        "model_state_dict = PATH_MODELS + '/model_rgb_state_dict_epoch_stage1_90.pth'\n",
        "\n",
        "model.load_state_dict(torch.load(model_state_dict))\n",
        "TestRGB(model)"
      ],
      "execution_count": 0,
      "outputs": [
        {
          "output_type": "stream",
          "text": [
            "Number of samples = 113\n",
            "Evaluating...\n"
          ],
          "name": "stdout"
        },
        {
          "output_type": "stream",
          "text": [
            "/usr/local/lib/python3.6/dist-packages/ipykernel_launcher.py:21: UserWarning: volatile was removed and now has no effect. Use `with torch.no_grad():` instead.\n",
            "/usr/local/lib/python3.6/dist-packages/torch/nn/functional.py:1569: UserWarning: nn.functional.sigmoid is deprecated. Use torch.sigmoid instead.\n",
            "  warnings.warn(\"nn.functional.sigmoid is deprecated. Use torch.sigmoid instead.\")\n",
            "/usr/local/lib/python3.6/dist-packages/torch/nn/functional.py:1558: UserWarning: nn.functional.tanh is deprecated. Use torch.tanh instead.\n",
            "  warnings.warn(\"nn.functional.tanh is deprecated. Use torch.tanh instead.\")\n"
          ],
          "name": "stderr"
        },
        {
          "output_type": "stream",
          "text": [
            "Test Accuracy = 0.4424778761061947%\n"
          ],
          "name": "stdout"
        },
        {
          "output_type": "display_data",
          "data": {
            "image/png": "[encoded data removed]",
            "text/plain": [
              "<Figure size 432x288 with 2 Axes>"
            ]
          },
          "metadata": {
            "tags": [],
            "needs_background": "light"
          }
        }
      ]
    },
    {
      "cell_type": "markdown",
      "metadata": {
        "id": "mgbNKp-1RPvL",
        "colab_type": "text"
      },
      "source": [
        "TRAINING (STAGE 2)"
      ]
    },
    {
      "cell_type": "code",
      "metadata": {
        "id": "2_F3mL07MmmV",
        "colab_type": "code",
        "colab": {}
      },
      "source": [
        "stage = 2\n",
        "NUM_EPOCHS = 150\n",
        "lr2 = 1e-4\n",
        "decay_step2 = [25, 75]\n",
        "decay_factor2 = 0.1\n",
        "\n",
        "model, train_params2 = PrepareTraining(stage, model_state_dict)\n",
        "\n",
        "model.lstm_cell.train(True)\n",
        "\n",
        "model.classifier.train(True)\n",
        "model.to(DEVICE)\n",
        "\n",
        "loss_fn = nn.CrossEntropyLoss()\n",
        "\n",
        "optimizer_fn = torch.optim.Adam(train_params2, lr=lr2, weight_decay=4e-5, eps=1e-4)\n",
        "\n",
        "optim_scheduler = torch.optim.lr_scheduler.MultiStepLR(optimizer_fn, milestones=decay_step2, gamma=decay_factor2)"
      ],
      "execution_count": 0,
      "outputs": []
    },
    {
      "cell_type": "code",
      "metadata": {
        "id": "DLhRvMNzSUc3",
        "colab_type": "code",
        "outputId": "85bc2b46-7954-4c89-c605-c92242c54616",
        "colab": {
          "base_uri": "https://localhost:8080/",
          "height": 1000
        }
      },
      "source": [
        "train_rgb, val_rgb = TrainingRGB()"
      ],
      "execution_count": 0,
      "outputs": [
        {
          "output_type": "stream",
          "text": [
            "/usr/local/lib/python3.6/dist-packages/torch/nn/functional.py:1569: UserWarning: nn.functional.sigmoid is deprecated. Use torch.sigmoid instead.\n",
            "  warnings.warn(\"nn.functional.sigmoid is deprecated. Use torch.sigmoid instead.\")\n",
            "/usr/local/lib/python3.6/dist-packages/torch/nn/functional.py:1558: UserWarning: nn.functional.tanh is deprecated. Use torch.tanh instead.\n",
            "  warnings.warn(\"nn.functional.tanh is deprecated. Use torch.tanh instead.\")\n"
          ],
          "name": "stderr"
        },
        {
          "output_type": "stream",
          "text": [
            "Train: Epoch = 1/150 | Loss = 2.215390367941423 | Accuracy = 0.3866279069767442\n",
            "Train: Epoch = 2/150 | Loss = 2.069909518415278 | Accuracy = 0.39825581395348836\n",
            "Train: Epoch = 3/150 | Loss = 2.037191217595881 | Accuracy = 0.3808139534883721\n",
            "Train: Epoch = 4/150 | Loss = 2.09550095688213 | Accuracy = 0.42151162790697677\n",
            "Train: Epoch = 5/150 | Loss = 1.9730462486093694 | Accuracy = 0.436046511627907\n",
            "Train: Epoch = 6/150 | Loss = 1.931714112108404 | Accuracy = 0.45348837209302323\n",
            "Train: Epoch = 7/150 | Loss = 1.8807660341262817 | Accuracy = 0.4563953488372093\n",
            "Train: Epoch = 8/150 | Loss = 1.9119016148827293 | Accuracy = 0.47674418604651164\n",
            "Train: Epoch = 9/150 | Loss = 1.797388802875172 | Accuracy = 0.48255813953488375\n",
            "Train: Epoch = 10/150 | Loss = 1.8243343288248235 | Accuracy = 0.45930232558139533\n",
            "Train: Epoch = 11/150 | Loss = 1.9044554883783513 | Accuracy = 0.46511627906976744\n",
            "Train: Epoch = 12/150 | Loss = 1.8195513920350508 | Accuracy = 0.4680232558139535\n",
            "Train: Epoch = 13/150 | Loss = 1.6387081796472722 | Accuracy = 0.5058139534883721\n",
            "Train: Epoch = 14/150 | Loss = 1.8220718557184392 | Accuracy = 0.4563953488372093\n",
            "Train: Epoch = 15/150 | Loss = 1.700593276457353 | Accuracy = 0.4796511627906977\n",
            "Train: Epoch = 16/150 | Loss = 1.7271915023977107 | Accuracy = 0.5290697674418605\n",
            "Train: Epoch = 17/150 | Loss = 1.7123142047361894 | Accuracy = 0.5145348837209303\n",
            "Train: Epoch = 18/150 | Loss = 1.7432764226740056 | Accuracy = 0.5116279069767442\n",
            "Train: Epoch = 19/150 | Loss = 1.5906406532634387 | Accuracy = 0.563953488372093\n",
            "Train: Epoch = 20/150 | Loss = 1.5302120122042568 | Accuracy = 0.5319767441860465\n",
            "Train: Epoch = 21/150 | Loss = 1.563807801766829 | Accuracy = 0.5348837209302325\n",
            "Train: Epoch = 22/150 | Loss = 1.529515353116122 | Accuracy = 0.5377906976744186\n",
            "Train: Epoch = 23/150 | Loss = 1.5092320442199707 | Accuracy = 0.5581395348837209\n",
            "Train: Epoch = 24/150 | Loss = 1.640217585997148 | Accuracy = 0.5\n",
            "Train: Epoch = 25/150 | Loss = 1.4679952534762295 | Accuracy = 0.5697674418604651\n",
            "Train: Epoch = 26/150 | Loss = 1.4823323488235474 | Accuracy = 0.5813953488372093\n",
            "Train: Epoch = 27/150 | Loss = 1.3706028569828381 | Accuracy = 0.5784883720930233\n",
            "Train: Epoch = 28/150 | Loss = 1.4106972976164385 | Accuracy = 0.5465116279069767\n",
            "Train: Epoch = 29/150 | Loss = 1.280926140871915 | Accuracy = 0.6104651162790697\n",
            "Train: Epoch = 30/150 | Loss = 1.3720831762660632 | Accuracy = 0.6017441860465116\n",
            "Train: Epoch = 31/150 | Loss = 1.3338731202212246 | Accuracy = 0.625\n",
            "Train: Epoch = 32/150 | Loss = 1.3044842969287525 | Accuracy = 0.6133720930232558\n",
            "Train: Epoch = 33/150 | Loss = 1.225731681693684 | Accuracy = 0.6017441860465116\n",
            "Train: Epoch = 34/150 | Loss = 1.3171036460182883 | Accuracy = 0.6162790697674418\n",
            "Train: Epoch = 35/150 | Loss = 1.1891180656173013 | Accuracy = 0.6627906976744186\n",
            "Train: Epoch = 36/150 | Loss = 1.2890732938593084 | Accuracy = 0.5988372093023255\n",
            "Train: Epoch = 37/150 | Loss = 1.2187907966700466 | Accuracy = 0.6627906976744186\n",
            "Train: Epoch = 38/150 | Loss = 1.2023232525045222 | Accuracy = 0.627906976744186\n",
            "Train: Epoch = 39/150 | Loss = 1.1026967547156594 | Accuracy = 0.6918604651162791\n",
            "Train: Epoch = 40/150 | Loss = 1.2422867742451755 | Accuracy = 0.6366279069767442\n",
            "Train: Epoch = 41/150 | Loss = 1.1674883419817144 | Accuracy = 0.6482558139534884\n",
            "Train: Epoch = 42/150 | Loss = 1.1982666091485457 | Accuracy = 0.6511627906976745\n",
            "Train: Epoch = 43/150 | Loss = 1.2188081741333008 | Accuracy = 0.622093023255814\n",
            "Train: Epoch = 44/150 | Loss = 1.1635538177056746 | Accuracy = 0.627906976744186\n",
            "Train: Epoch = 45/150 | Loss = 1.2459186478094622 | Accuracy = 0.6191860465116279\n",
            "Train: Epoch = 46/150 | Loss = 1.1931336251172153 | Accuracy = 0.6482558139534884\n",
            "Train: Epoch = 47/150 | Loss = 1.21968135508624 | Accuracy = 0.6162790697674418\n",
            "Train: Epoch = 48/150 | Loss = 1.1087239438837224 | Accuracy = 0.6598837209302325\n",
            "Train: Epoch = 49/150 | Loss = 1.1199908581647007 | Accuracy = 0.6540697674418605\n",
            "Train: Epoch = 50/150 | Loss = 1.14491897279566 | Accuracy = 0.6598837209302325\n",
            "Train: Epoch = 51/150 | Loss = 1.2180535305630078 | Accuracy = 0.6191860465116279\n",
            "Train: Epoch = 52/150 | Loss = 1.1537150686437434 | Accuracy = 0.6686046511627907\n",
            "Train: Epoch = 53/150 | Loss = 1.2468042698773472 | Accuracy = 0.6511627906976745\n",
            "Train: Epoch = 54/150 | Loss = 1.1243723468347029 | Accuracy = 0.6395348837209303\n",
            "Train: Epoch = 55/150 | Loss = 1.0563134659420361 | Accuracy = 0.6686046511627907\n",
            "Train: Epoch = 56/150 | Loss = 1.216358569535342 | Accuracy = 0.625\n",
            "Train: Epoch = 57/150 | Loss = 1.1017855297435413 | Accuracy = 0.6918604651162791\n",
            "Train: Epoch = 58/150 | Loss = 1.102734473618594 | Accuracy = 0.7034883720930233\n",
            "Train: Epoch = 59/150 | Loss = 1.0448082197796216 | Accuracy = 0.7151162790697675\n",
            "Train: Epoch = 60/150 | Loss = 1.1210227608680725 | Accuracy = 0.6831395348837209\n",
            "Train: Epoch = 61/150 | Loss = 1.1214197223836726 | Accuracy = 0.6482558139534884\n",
            "Train: Epoch = 62/150 | Loss = 1.0938621054996143 | Accuracy = 0.6802325581395349\n",
            "Train: Epoch = 63/150 | Loss = 1.0163307569243691 | Accuracy = 0.7151162790697675\n",
            "Train: Epoch = 64/150 | Loss = 1.1802760037508877 | Accuracy = 0.6366279069767442\n",
            "Train: Epoch = 65/150 | Loss = 1.060338247906078 | Accuracy = 0.6918604651162791\n",
            "Train: Epoch = 66/150 | Loss = 1.0736778703602878 | Accuracy = 0.7063953488372093\n",
            "Train: Epoch = 67/150 | Loss = 1.026763466271487 | Accuracy = 0.6976744186046512\n",
            "Train: Epoch = 68/150 | Loss = 1.0775249058550054 | Accuracy = 0.7005813953488372\n",
            "Train: Epoch = 69/150 | Loss = 1.1164752732623706 | Accuracy = 0.6540697674418605\n",
            "Train: Epoch = 70/150 | Loss = 1.0315308408303694 | Accuracy = 0.686046511627907\n",
            "Train: Epoch = 71/150 | Loss = 1.0247097936543552 | Accuracy = 0.6802325581395349\n",
            "Train: Epoch = 72/150 | Loss = 1.0632924004034563 | Accuracy = 0.6598837209302325\n",
            "Train: Epoch = 73/150 | Loss = 1.0636402693661777 | Accuracy = 0.6744186046511628\n",
            "Train: Epoch = 74/150 | Loss = 1.0687120773575522 | Accuracy = 0.6831395348837209\n",
            "Train: Epoch = 75/150 | Loss = 1.0236441438848323 | Accuracy = 0.7093023255813954\n",
            "Train: Epoch = 76/150 | Loss = 0.9530498927289789 | Accuracy = 0.7267441860465116\n",
            "Train: Epoch = 77/150 | Loss = 0.9667282104492188 | Accuracy = 0.7354651162790697\n",
            "Train: Epoch = 78/150 | Loss = 1.0944430340420117 | Accuracy = 0.686046511627907\n",
            "Train: Epoch = 79/150 | Loss = 1.0186301117593592 | Accuracy = 0.7005813953488372\n",
            "Train: Epoch = 80/150 | Loss = 0.9563012502410195 | Accuracy = 0.7354651162790697\n",
            "Train: Epoch = 81/150 | Loss = 1.019271655516191 | Accuracy = 0.7005813953488372\n",
            "Train: Epoch = 82/150 | Loss = 0.9467502940784801 | Accuracy = 0.7005813953488372\n",
            "Train: Epoch = 83/150 | Loss = 0.8967355002056469 | Accuracy = 0.7296511627906976\n",
            "Train: Epoch = 84/150 | Loss = 1.0085620500824668 | Accuracy = 0.7180232558139535\n",
            "Train: Epoch = 85/150 | Loss = 1.0336260958151384 | Accuracy = 0.6947674418604651\n",
            "Train: Epoch = 86/150 | Loss = 0.9739553223956715 | Accuracy = 0.7093023255813954\n",
            "Train: Epoch = 87/150 | Loss = 0.9327081766995516 | Accuracy = 0.7005813953488372\n",
            "Train: Epoch = 88/150 | Loss = 0.9315199960361827 | Accuracy = 0.7005813953488372\n",
            "Train: Epoch = 89/150 | Loss = 1.0603449615565212 | Accuracy = 0.7005813953488372\n",
            "Train: Epoch = 90/150 | Loss = 0.8917348926717584 | Accuracy = 0.75\n",
            "Train: Epoch = 91/150 | Loss = 0.9556702754714272 | Accuracy = 0.7325581395348837\n",
            "Train: Epoch = 92/150 | Loss = 1.0205318440090527 | Accuracy = 0.7122093023255814\n",
            "Train: Epoch = 93/150 | Loss = 1.028286413712935 | Accuracy = 0.7122093023255814\n",
            "Train: Epoch = 94/150 | Loss = 1.0128446167165583 | Accuracy = 0.7093023255813954\n",
            "Train: Epoch = 95/150 | Loss = 1.0152234868569807 | Accuracy = 0.7209302325581395\n",
            "Train: Epoch = 96/150 | Loss = 1.0976512269540266 | Accuracy = 0.6569767441860465\n",
            "Train: Epoch = 97/150 | Loss = 1.044654136354273 | Accuracy = 0.6715116279069767\n",
            "Train: Epoch = 98/150 | Loss = 1.0125209960070523 | Accuracy = 0.6918604651162791\n",
            "Train: Epoch = 99/150 | Loss = 1.0860968936573376 | Accuracy = 0.6424418604651163\n",
            "Train: Epoch = 100/150 | Loss = 1.0189625729214062 | Accuracy = 0.7063953488372093\n",
            "Train: Epoch = 101/150 | Loss = 1.014412592757832 | Accuracy = 0.7151162790697675\n",
            "Train: Epoch = 102/150 | Loss = 1.069928234273737 | Accuracy = 0.6773255813953488\n",
            "Train: Epoch = 103/150 | Loss = 0.9303960041566328 | Accuracy = 0.7296511627906976\n",
            "Train: Epoch = 104/150 | Loss = 1.0185013684359463 | Accuracy = 0.7267441860465116\n",
            "Train: Epoch = 105/150 | Loss = 1.113762226971713 | Accuracy = 0.6482558139534884\n",
            "Train: Epoch = 106/150 | Loss = 0.9484899802641436 | Accuracy = 0.7151162790697675\n",
            "Train: Epoch = 107/150 | Loss = 0.9709584387865934 | Accuracy = 0.7093023255813954\n",
            "Train: Epoch = 108/150 | Loss = 1.0756976116787305 | Accuracy = 0.6744186046511628\n",
            "Train: Epoch = 109/150 | Loss = 0.9503918019208041 | Accuracy = 0.6976744186046512\n",
            "Train: Epoch = 110/150 | Loss = 0.9894623214548285 | Accuracy = 0.7267441860465116\n",
            "Train: Epoch = 111/150 | Loss = 0.966526519168507 | Accuracy = 0.7122093023255814\n",
            "Train: Epoch = 112/150 | Loss = 0.9711665727875449 | Accuracy = 0.7325581395348837\n",
            "Train: Epoch = 113/150 | Loss = 0.9773429090326483 | Accuracy = 0.6744186046511628\n",
            "Train: Epoch = 114/150 | Loss = 1.0137493989684365 | Accuracy = 0.7063953488372093\n",
            "Train: Epoch = 115/150 | Loss = 1.0726061084053733 | Accuracy = 0.686046511627907\n",
            "Train: Epoch = 116/150 | Loss = 0.9484444477341392 | Accuracy = 0.7238372093023255\n",
            "Train: Epoch = 117/150 | Loss = 0.9403916543180292 | Accuracy = 0.6976744186046512\n",
            "Train: Epoch = 118/150 | Loss = 1.0070807554505088 | Accuracy = 0.686046511627907\n",
            "Train: Epoch = 119/150 | Loss = 1.0076232119040056 | Accuracy = 0.7209302325581395\n",
            "Train: Epoch = 120/150 | Loss = 0.9306106838313016 | Accuracy = 0.747093023255814\n",
            "Train: Epoch = 121/150 | Loss = 1.1592424728653647 | Accuracy = 0.6191860465116279\n",
            "Train: Epoch = 122/150 | Loss = 1.0441979440775784 | Accuracy = 0.6831395348837209\n",
            "Train: Epoch = 123/150 | Loss = 0.9224828264930032 | Accuracy = 0.752906976744186\n",
            "Train: Epoch = 124/150 | Loss = 1.0269845778291875 | Accuracy = 0.686046511627907\n",
            "Train: Epoch = 125/150 | Loss = 0.9795922203497454 | Accuracy = 0.686046511627907\n",
            "Train: Epoch = 126/150 | Loss = 0.9057427590543573 | Accuracy = 0.7354651162790697\n",
            "Train: Epoch = 127/150 | Loss = 0.9630655375393954 | Accuracy = 0.7383720930232558\n",
            "Train: Epoch = 128/150 | Loss = 1.0196452899412676 | Accuracy = 0.7034883720930233\n",
            "Train: Epoch = 129/150 | Loss = 0.986240950497714 | Accuracy = 0.7122093023255814\n",
            "Train: Epoch = 130/150 | Loss = 0.9190538037906993 | Accuracy = 0.7267441860465116\n",
            "Train: Epoch = 131/150 | Loss = 0.9627934260801836 | Accuracy = 0.7034883720930233\n",
            "Train: Epoch = 132/150 | Loss = 1.0195471915331753 | Accuracy = 0.6831395348837209\n",
            "Train: Epoch = 133/150 | Loss = 0.9739483107220043 | Accuracy = 0.7325581395348837\n",
            "Train: Epoch = 134/150 | Loss = 1.062788556922566 | Accuracy = 0.6453488372093024\n",
            "Train: Epoch = 135/150 | Loss = 1.1089219125834378 | Accuracy = 0.6686046511627907\n",
            "Train: Epoch = 136/150 | Loss = 0.9470102949575945 | Accuracy = 0.7325581395348837\n",
            "Train: Epoch = 137/150 | Loss = 0.9307171106338501 | Accuracy = 0.7180232558139535\n",
            "Train: Epoch = 138/150 | Loss = 1.071764805100181 | Accuracy = 0.688953488372093\n",
            "Train: Epoch = 139/150 | Loss = 1.0325964905998923 | Accuracy = 0.6802325581395349\n",
            "Train: Epoch = 140/150 | Loss = 0.998859400098974 | Accuracy = 0.7093023255813954\n",
            "Train: Epoch = 141/150 | Loss = 0.9941143664446744 | Accuracy = 0.6976744186046512\n",
            "Train: Epoch = 142/150 | Loss = 1.0102847706187854 | Accuracy = 0.6947674418604651\n",
            "Train: Epoch = 143/150 | Loss = 1.0173509608615527 | Accuracy = 0.7063953488372093\n",
            "Train: Epoch = 144/150 | Loss = 0.927903413772583 | Accuracy = 0.7122093023255814\n",
            "Train: Epoch = 145/150 | Loss = 1.047513111071153 | Accuracy = 0.6831395348837209\n",
            "Train: Epoch = 146/150 | Loss = 0.9943797263232145 | Accuracy = 0.7122093023255814\n",
            "Train: Epoch = 147/150 | Loss = 1.0720634514635259 | Accuracy = 0.686046511627907\n",
            "Train: Epoch = 148/150 | Loss = 1.0083157962018794 | Accuracy = 0.7093023255813954\n",
            "Train: Epoch = 149/150 | Loss = 0.9518270519646731 | Accuracy = 0.7151162790697675\n",
            "Train: Epoch = 150/150 | Loss = 0.9489504586566578 | Accuracy = 0.7412790697674418\n"
          ],
          "name": "stdout"
        }
      ]
    },
    {
      "cell_type": "code",
      "metadata": {
        "id": "QnCCoWaPzXyo",
        "colab_type": "code",
        "outputId": "3c3ad4b5-1a8e-4272-f193-79ab136204d3",
        "colab": {
          "base_uri": "https://localhost:8080/",
          "height": 535
        }
      },
      "source": [
        "meta_rgb = 'Training RGB Model (Stage 2)'\n",
        "PlotAccuracyLoss(train_rgb, val_rgb, meta_rgb)"
      ],
      "execution_count": 0,
      "outputs": [
        {
          "output_type": "display_data",
          "data": {
            "image/png": "[encoded data removed]",
            "text/plain": [
              "<Figure size 936x504 with 2 Axes>"
            ]
          },
          "metadata": {
            "tags": [],
            "needs_background": "light"
          }
        },
        {
          "output_type": "stream",
          "text": [
            "Min Loss: Train: 0.891735\n",
            "Max Accuracy: Train: 0.752907\n"
          ],
          "name": "stdout"
        }
      ]
    },
    {
      "cell_type": "code",
      "metadata": {
        "id": "8sRFsHG2vU9g",
        "colab_type": "code",
        "outputId": "7befabac-a8db-40ce-d9bc-7f2eda179ebf",
        "colab": {
          "base_uri": "https://localhost:8080/",
          "height": 430
        }
      },
      "source": [
        "TestRGB(model)"
      ],
      "execution_count": 0,
      "outputs": [
        {
          "output_type": "stream",
          "text": [
            "Number of samples = 113\n",
            "Evaluating...\n"
          ],
          "name": "stdout"
        },
        {
          "output_type": "stream",
          "text": [
            "/usr/local/lib/python3.6/dist-packages/ipykernel_launcher.py:21: UserWarning: volatile was removed and now has no effect. Use `with torch.no_grad():` instead.\n",
            "/usr/local/lib/python3.6/dist-packages/torch/nn/functional.py:1569: UserWarning: nn.functional.sigmoid is deprecated. Use torch.sigmoid instead.\n",
            "  warnings.warn(\"nn.functional.sigmoid is deprecated. Use torch.sigmoid instead.\")\n",
            "/usr/local/lib/python3.6/dist-packages/torch/nn/functional.py:1558: UserWarning: nn.functional.tanh is deprecated. Use torch.tanh instead.\n",
            "  warnings.warn(\"nn.functional.tanh is deprecated. Use torch.tanh instead.\")\n"
          ],
          "name": "stderr"
        },
        {
          "output_type": "stream",
          "text": [
            "Test Accuracy = 0.4424778761061947%\n"
          ],
          "name": "stdout"
        },
        {
          "output_type": "display_data",
          "data": {
            "image/png": "[encoded data removed]",
            "text/plain": [
              "<Figure size 432x288 with 2 Axes>"
            ]
          },
          "metadata": {
            "tags": [],
            "needs_background": "light"
          }
        }
      ]
    },
    {
      "cell_type": "markdown",
      "metadata": {
        "id": "7uaUXA-5JzWO",
        "colab_type": "text"
      },
      "source": [
        "# Temporal-WarpFlow"
      ]
    },
    {
      "cell_type": "code",
      "metadata": {
        "id": "kg7XvizAfCm_",
        "colab_type": "code",
        "colab": {}
      },
      "source": [
        "from MakeDatasetFlow import *\n",
        "from spatial_transforms import *\n",
        "from objectAttentionModelConvLSTM import *\n",
        "\n",
        "\n",
        "stackSize = 5\n",
        "BATCH_SIZE = 32\n",
        "NUM_EPOCHS = 50 #750\n",
        "lr = 1e-2\n",
        "decay_step = [150, 300, 500]\n",
        "decay_factor = 0.5\n",
        "numSeg = 1\n",
        "\n",
        "normalize = Normalize(mean=[0.485, 0.456, 0.406], std=[0.229, 0.224, 0.225])\n",
        "spatial_transform = Compose([Scale(256), RandomHorizontalFlip(), MultiScaleCornerCrop([1, 0.875, 0.75, 0.65625], 224),\n",
        "                                 ToTensor(), normalize])\n",
        "    \n",
        "DIR = 'GTEA61/flow_x_processed' \n",
        "training_folders = [1,3,4]\n",
        "train_dataset = makeDatasetFlow(DIR, spatial_transform=spatial_transform, stackSize=stackSize, sequence=False, numSeg=numSeg, fmt='.png', folders=training_folders)\n",
        "train_loader = torch.utils.data.DataLoader(train_dataset, batch_size=BATCH_SIZE, shuffle=True, sampler=None, num_workers=4, pin_memory=True)\n",
        "\n",
        "val_transform = Compose([Scale(256), CenterCrop(224), ToTensor(), normalize])\n",
        "if(validation):\n",
        "  validation_folders = [3]\n",
        "  val_dataset = makeDatasetFlow(DIR, spatial_transform=val_transform , stackSize=stackSize, sequence=False, numSeg=numSeg, fmt='.png', folders=validation_folders, phase='Test')\n",
        "  val_loader = torch.utils.data.DataLoader(val_dataset, batch_size=BATCH_SIZE, shuffle=False, num_workers=2, pin_memory=True)\n",
        "\n",
        "\n",
        "test_transform = Compose([Scale(256), CenterCrop(224), ToTensor(), normalize])\n",
        "testing_folders = [2]\n",
        "test_dataset = makeDatasetFlow(DIR, spatial_transform=val_transform, stackSize=stackSize, sequence=False, numSeg=numSeg, fmt='.png', folders=testing_folders, phase='Test')\n",
        "test_loader = torch.utils.data.DataLoader(test_dataset, batch_size=1, shuffle=True, num_workers=2, pin_memory=True)\n"
      ],
      "execution_count": 0,
      "outputs": []
    },
    {
      "cell_type": "code",
      "metadata": {
        "id": "FZ7GZSfnKlci",
        "colab_type": "code",
        "colab": {}
      },
      "source": [
        "from flow_resnet import flow_resnet34\n",
        "\n",
        "model = flow_resnet34(True, channels=2*stackSize, num_classes=NUM_CLASSES)\n",
        "#model_state_dict = PATH_MODELS + 'best_model_state_dict_flow_split2.pth'\n",
        "#model.load_state_dict(torch.load(model_state_dict))\n",
        "model.train(True)\n",
        "train_params = list(model.parameters())\n",
        "model.to(DEVICE)\n",
        "\n",
        "loss_fn = nn.CrossEntropyLoss()\n",
        "optimizer_fn = torch.optim.SGD(train_params, lr=lr, momentum=0.9, weight_decay=5e-4)\n",
        "optim_scheduler = torch.optim.lr_scheduler.MultiStepLR(optimizer_fn, milestones=decay_step, gamma=decay_factor)"
      ],
      "execution_count": 0,
      "outputs": []
    },
    {
      "cell_type": "code",
      "metadata": {
        "id": "dTIZKVBWMaFx",
        "colab_type": "code",
        "colab": {}
      },
      "source": [
        "def TrainingFlow():\n",
        "  train_iter = 0\n",
        "  min_accuracy = 0\n",
        "\n",
        "  train = []\n",
        "  val = []\n",
        "  best_acc = -1\n",
        "  for epoch in range(NUM_EPOCHS):\n",
        "    epoch_loss = 0\n",
        "    numCorrTrain = 0\n",
        "    trainSamples = 0\n",
        "    iterPerEpoch = 0\n",
        "    model.train(True)\n",
        "    #writer.add_scalar('lr', optimizer_fn.param_groups[0]['lr'], epoch+1)\n",
        "    for i, (inputs, targets) in enumerate(train_loader):\n",
        "      train_iter += 1\n",
        "      iterPerEpoch += 1\n",
        "      optimizer_fn.zero_grad()\n",
        "      inputVariable = Variable(inputs.to(DEVICE))\n",
        "      labelVariable = Variable(targets.to(DEVICE))\n",
        "      trainSamples += inputs.size(0)\n",
        "      output_label, _ = model(inputVariable)\n",
        "      loss = loss_fn(output_label, labelVariable)\n",
        "      loss.backward()\n",
        "      optimizer_fn.step()\n",
        "      _, predicted = torch.max(output_label.data, 1)\n",
        "      numCorrTrain += torch.sum(predicted == targets.to(DEVICE)).data.item()\n",
        "      epoch_loss += loss.item()\n",
        "    avg_loss = epoch_loss/iterPerEpoch\n",
        "    trainAccuracy = (numCorrTrain / trainSamples)\n",
        "    print('Train: Epoch = {}/{} | Loss = {} | Accuracy = {}'.format(epoch + 1, NUM_EPOCHS, avg_loss, trainAccuracy))\n",
        "\n",
        "    max_loss = 6\n",
        "    avg_loss_normalized = avg_loss if avg_loss < max_loss else max_loss\n",
        "    train.append( (trainAccuracy,avg_loss_normalized) )\n",
        "\n",
        "    optim_scheduler.step()\n",
        "    #writer.add_scalar('train/epoch_loss', avg_loss, epoch+1)\n",
        "    #writer.add_scalar('train/accuracy', trainAccuracy, epoch+1)\n",
        "    #train_log_loss.write('Training loss after {} epoch = {}\\n'.format(epoch+1, avg_loss))\n",
        "    #train_log_acc.write('Training accuracy after {} epoch = {}\\n'.format(epoch+1, trainAccuracy))\n",
        "    if(validation):\n",
        "      if (epoch+1) % VAL_FREQUENCY == 0:\n",
        "        model.train(False)\n",
        "        val_loss_epoch = 0\n",
        "        val_iter = 0\n",
        "        val_samples = 0\n",
        "        numCorr = 0\n",
        "        for j, (inputs, targets) in enumerate(val_loader):\n",
        "          val_iter += 1\n",
        "          val_samples += inputs.size(0)\n",
        "          inputVariable = Variable(inputs.cuda(), volatile=True)\n",
        "          labelVariable = Variable(targets.cuda(async=True), volatile=True)\n",
        "          output_label, _ = model(inputVariable)\n",
        "          val_loss = loss_fn(output_label, labelVariable)\n",
        "          val_loss_epoch += val_loss.item()\n",
        "          _, predicted = torch.max(output_label.data, 1)\n",
        "          numCorr += torch.sum(predicted == targets.to(DEVICE)).data.item()\n",
        "        val_accuracy = (numCorr / val_samples)\n",
        "        avg_val_loss = val_loss_epoch / val_iter\n",
        "        print('*****  Validation: Epoch = {} | Loss = {} | Accuracy = {}  *****'.format(epoch + 1, avg_val_loss, val_accuracy))\n",
        "        avg_val_loss_normalized = avg_val_loss if avg_val_loss < max_loss else max_loss\n",
        "        val.append( (val_accuracy,avg_val_loss_normalized) )\n",
        "        #writer.add_scalar('val/epoch_loss', avg_val_loss, epoch + 1)\n",
        "        #writer.add_scalar('val/accuracy', val_accuracy, epoch + 1)\n",
        "        #val_log_loss.write('Val Loss after {} epochs = {}\\n'.format(epoch + 1, avg_val_loss))\n",
        "        #val_log_acc.write('Val Accuracy after {} epochs = {}%\\n'.format(epoch + 1, val_accuracy))\n",
        "        if val_accuracy > min_accuracy:\n",
        "          save_path_model = (PATH_MODELS + '/best_model_flow_state_dict.pth')\n",
        "          torch.save(model.state_dict(), save_path_model)\n",
        "          min_accuracy = val_accuracy\n",
        "\n",
        "    if (numCorrTrain>best_acc):\n",
        "      best_acc = numCorrTrain\n",
        "      save_path_model = (PATH_MODELS + '/model_flow_state_dict_epoch' + '.pth')\n",
        "      torch.save(model.state_dict(), save_path_model)\n",
        "\n",
        "  return train, val"
      ],
      "execution_count": 0,
      "outputs": []
    },
    {
      "cell_type": "code",
      "metadata": {
        "id": "_Hs9WgfsNmPn",
        "colab_type": "code",
        "outputId": "1c22a433-e4ef-45e8-db92-6fed26d28727",
        "colab": {
          "base_uri": "https://localhost:8080/",
          "height": 1000
        }
      },
      "source": [
        "train_flow, val_flow = TrainingFlow()"
      ],
      "execution_count": 0,
      "outputs": [
        {
          "output_type": "stream",
          "text": [
            "/usr/local/lib/python3.6/dist-packages/torch/optim/lr_scheduler.py:123: UserWarning: Detected call of `lr_scheduler.step()` before `optimizer.step()`. In PyTorch 1.1.0 and later, you should call them in the opposite order: `optimizer.step()` before `lr_scheduler.step()`.  Failure to do this will result in PyTorch skipping the first value of the learning rate schedule. See more details at https://pytorch.org/docs/stable/optim.html#how-to-adjust-learning-rate\n",
            "  \"https://pytorch.org/docs/stable/optim.html#how-to-adjust-learning-rate\", UserWarning)\n"
          ],
          "name": "stderr"
        },
        {
          "output_type": "stream",
          "text": [
            "Train: Epoch = 1/50 | Loss = 1.9942046850919724 | Accuracy = 0.5\n",
            "Train: Epoch = 2/50 | Loss = 2.9282103180885315 | Accuracy = 0.34649122807017546\n",
            "Train: Epoch = 3/50 | Loss = 3.23906546831131 | Accuracy = 0.21052631578947367\n"
          ],
          "name": "stdout"
        },
        {
          "output_type": "stream",
          "text": [
            "/usr/local/lib/python3.6/dist-packages/ipykernel_launcher.py:50: UserWarning: volatile was removed and now has no effect. Use `with torch.no_grad():` instead.\n",
            "/usr/local/lib/python3.6/dist-packages/ipykernel_launcher.py:51: UserWarning: volatile was removed and now has no effect. Use `with torch.no_grad():` instead.\n"
          ],
          "name": "stderr"
        },
        {
          "output_type": "stream",
          "text": [
            "*****  Validation: Epoch = 3 | Loss = 10.280046343803406 | Accuracy = 0.08620689655172414  *****\n",
            "Train: Epoch = 4/50 | Loss = 3.4844000935554504 | Accuracy = 0.19298245614035087\n",
            "Train: Epoch = 5/50 | Loss = 3.333032250404358 | Accuracy = 0.14912280701754385\n",
            "Train: Epoch = 6/50 | Loss = 3.2639679610729218 | Accuracy = 0.14912280701754385\n",
            "*****  Validation: Epoch = 6 | Loss = 6.94232565164566 | Accuracy = 0.16379310344827586  *****\n",
            "Train: Epoch = 7/50 | Loss = 3.3862711787223816 | Accuracy = 0.17105263157894737\n",
            "Train: Epoch = 8/50 | Loss = 3.224565863609314 | Accuracy = 0.19736842105263158\n",
            "Train: Epoch = 9/50 | Loss = 3.091442048549652 | Accuracy = 0.22807017543859648\n",
            "*****  Validation: Epoch = 9 | Loss = 3.224925398826599 | Accuracy = 0.14655172413793102  *****\n",
            "Train: Epoch = 10/50 | Loss = 3.277636080980301 | Accuracy = 0.16228070175438597\n",
            "Train: Epoch = 11/50 | Loss = 3.0292997658252716 | Accuracy = 0.2149122807017544\n",
            "Train: Epoch = 12/50 | Loss = 3.0520905554294586 | Accuracy = 0.17105263157894737\n",
            "*****  Validation: Epoch = 12 | Loss = 3.4100576639175415 | Accuracy = 0.1810344827586207  *****\n",
            "Train: Epoch = 13/50 | Loss = 2.916517525911331 | Accuracy = 0.21929824561403508\n",
            "Train: Epoch = 14/50 | Loss = 3.1507454812526703 | Accuracy = 0.2149122807017544\n",
            "Train: Epoch = 15/50 | Loss = 3.0114691853523254 | Accuracy = 0.24561403508771928\n",
            "*****  Validation: Epoch = 15 | Loss = 3.5818628072738647 | Accuracy = 0.1724137931034483  *****\n",
            "Train: Epoch = 16/50 | Loss = 3.193229913711548 | Accuracy = 0.17982456140350878\n",
            "Train: Epoch = 17/50 | Loss = 3.010407507419586 | Accuracy = 0.2236842105263158\n",
            "Train: Epoch = 18/50 | Loss = 3.2281382083892822 | Accuracy = 0.19298245614035087\n",
            "*****  Validation: Epoch = 18 | Loss = 3.602646589279175 | Accuracy = 0.1724137931034483  *****\n",
            "Train: Epoch = 19/50 | Loss = 3.1416769921779633 | Accuracy = 0.17105263157894737\n",
            "Train: Epoch = 20/50 | Loss = 2.926207333803177 | Accuracy = 0.23684210526315788\n",
            "Train: Epoch = 21/50 | Loss = 2.838805079460144 | Accuracy = 0.22807017543859648\n",
            "*****  Validation: Epoch = 21 | Loss = 3.108305513858795 | Accuracy = 0.1810344827586207  *****\n",
            "Train: Epoch = 22/50 | Loss = 2.9297871589660645 | Accuracy = 0.25\n",
            "Train: Epoch = 23/50 | Loss = 2.9993562400341034 | Accuracy = 0.21052631578947367\n",
            "Train: Epoch = 24/50 | Loss = 3.2474451661109924 | Accuracy = 0.17982456140350878\n",
            "*****  Validation: Epoch = 24 | Loss = 6.085622668266296 | Accuracy = 0.12931034482758622  *****\n",
            "Train: Epoch = 25/50 | Loss = 3.042144685983658 | Accuracy = 0.22807017543859648\n",
            "Train: Epoch = 26/50 | Loss = 3.117477983236313 | Accuracy = 0.21929824561403508\n",
            "Train: Epoch = 27/50 | Loss = 3.194063425064087 | Accuracy = 0.20614035087719298\n",
            "*****  Validation: Epoch = 27 | Loss = 3.6723045110702515 | Accuracy = 0.15517241379310345  *****\n",
            "Train: Epoch = 28/50 | Loss = 2.9043056070804596 | Accuracy = 0.25877192982456143\n",
            "Train: Epoch = 29/50 | Loss = 3.1279521584510803 | Accuracy = 0.2236842105263158\n",
            "Train: Epoch = 30/50 | Loss = 3.0600645840168 | Accuracy = 0.21052631578947367\n",
            "*****  Validation: Epoch = 30 | Loss = 3.365594446659088 | Accuracy = 0.1896551724137931  *****\n",
            "Train: Epoch = 31/50 | Loss = 2.9181195199489594 | Accuracy = 0.23684210526315788\n",
            "Train: Epoch = 32/50 | Loss = 2.9146313071250916 | Accuracy = 0.2543859649122807\n",
            "Train: Epoch = 33/50 | Loss = 2.8812050223350525 | Accuracy = 0.25\n",
            "*****  Validation: Epoch = 33 | Loss = 3.855522871017456 | Accuracy = 0.1810344827586207  *****\n",
            "Train: Epoch = 34/50 | Loss = 2.89712718129158 | Accuracy = 0.2675438596491228\n",
            "Train: Epoch = 35/50 | Loss = 2.745893567800522 | Accuracy = 0.2543859649122807\n",
            "Train: Epoch = 36/50 | Loss = 3.0370536148548126 | Accuracy = 0.22807017543859648\n",
            "*****  Validation: Epoch = 36 | Loss = 3.7208975553512573 | Accuracy = 0.1724137931034483  *****\n",
            "Train: Epoch = 37/50 | Loss = 2.9830323457717896 | Accuracy = 0.25\n",
            "Train: Epoch = 38/50 | Loss = 3.016430616378784 | Accuracy = 0.2236842105263158\n",
            "Train: Epoch = 39/50 | Loss = 2.968651533126831 | Accuracy = 0.21929824561403508\n",
            "*****  Validation: Epoch = 39 | Loss = 3.239508032798767 | Accuracy = 0.1896551724137931  *****\n",
            "Train: Epoch = 40/50 | Loss = 2.8817912340164185 | Accuracy = 0.2236842105263158\n",
            "Train: Epoch = 41/50 | Loss = 2.7688545882701874 | Accuracy = 0.3026315789473684\n",
            "Train: Epoch = 42/50 | Loss = 2.770171284675598 | Accuracy = 0.2719298245614035\n",
            "*****  Validation: Epoch = 42 | Loss = 3.6238664984703064 | Accuracy = 0.19827586206896552  *****\n",
            "Train: Epoch = 43/50 | Loss = 2.8446250557899475 | Accuracy = 0.24561403508771928\n",
            "Train: Epoch = 44/50 | Loss = 3.0106597244739532 | Accuracy = 0.2412280701754386\n",
            "Train: Epoch = 45/50 | Loss = 2.922990769147873 | Accuracy = 0.25877192982456143\n",
            "*****  Validation: Epoch = 45 | Loss = 3.843754529953003 | Accuracy = 0.22413793103448276  *****\n",
            "Train: Epoch = 46/50 | Loss = 2.8736620247364044 | Accuracy = 0.2324561403508772\n",
            "Train: Epoch = 47/50 | Loss = 2.631693333387375 | Accuracy = 0.25\n",
            "Train: Epoch = 48/50 | Loss = 2.4447023570537567 | Accuracy = 0.29385964912280704\n",
            "*****  Validation: Epoch = 48 | Loss = 3.429100513458252 | Accuracy = 0.14655172413793102  *****\n",
            "Train: Epoch = 49/50 | Loss = 2.851695239543915 | Accuracy = 0.31140350877192985\n",
            "Train: Epoch = 50/50 | Loss = 2.710995078086853 | Accuracy = 0.29385964912280704\n"
          ],
          "name": "stdout"
        }
      ]
    },
    {
      "cell_type": "code",
      "metadata": {
        "id": "pWmgqdpesYFX",
        "colab_type": "code",
        "outputId": "ef9ca7cc-9726-4248-97ad-eef9d2264eb8",
        "colab": {
          "base_uri": "https://localhost:8080/",
          "height": 535
        }
      },
      "source": [
        "meta_flow = 'Training Flow Model'\n",
        "PlotAccuracyLoss(train_flow, val_flow, meta_flow)"
      ],
      "execution_count": 0,
      "outputs": [
        {
          "output_type": "display_data",
          "data": {
            "image/png": "[encoded data removed]",
            "text/plain": [
              "<Figure size 936x504 with 2 Axes>"
            ]
          },
          "metadata": {
            "tags": [],
            "needs_background": "light"
          }
        },
        {
          "output_type": "stream",
          "text": [
            "Min Loss: Train: 1.994205, Val: 3.108306\n",
            "Max Accuracy: Train: 0.500000, Val: 0.224138\n"
          ],
          "name": "stdout"
        }
      ]
    },
    {
      "cell_type": "code",
      "metadata": {
        "id": "yciMnRj-oNe7",
        "colab_type": "code",
        "colab": {}
      },
      "source": [
        "from sklearn.metrics import confusion_matrix\n",
        "def Test():\n",
        "\n",
        "  for params in model.parameters():\n",
        "      params.requires_grad = False\n",
        "\n",
        "  model.train(False)\n",
        "  model.to(DEVICE)\n",
        "  test_samples = val_dataset.__len__()\n",
        "  print('Number of samples = {}'.format(test_samples))\n",
        "  print('Evaluating...')\n",
        "  numCorr = 0\n",
        "  true_labels = []\n",
        "  predicted_labels = []\n",
        "  for j, (inputs, targets) in enumerate(test_loader):\n",
        "    inputVariable = Variable(inputs.to(DEVICE), volatile=True)\n",
        "    output_label, _ = model(inputVariable)\n",
        "    output_label_mean = torch.mean(output_label.data, 0, True)\n",
        "    _, predicted = torch.max(output_label.data, 1)\n",
        "    predicted = predicted.to(DEVICE)\n",
        "    numCorr += torch.sum(predicted == targets.to(DEVICE)).data.item()\n",
        "    #numCorr += (predicted == targets.to(DEVICE)).sum()\n",
        "    true_labels.append(targets)\n",
        "    predicted_labels.append(predicted)\n",
        "  test_accuracy = (numCorr / test_samples)\n",
        "  print('Test Accuracy = {}%'.format(test_accuracy))\n",
        "\n",
        "  #cnf_matrix = confusion_matrix(true_labels, predicted_labels).astype(float)\n",
        "  cnf_matrix = confusion_matrix([f.item() for f in true_labels], [f.item() for f in predicted_labels]).astype(float)\n",
        "  cnf_matrix_normalized = cnf_matrix / cnf_matrix.sum(axis=1)[:, np.newaxis]\n",
        "\n",
        "  ticks = np.linspace(0, 60, num=61)\n",
        "  plt.imshow(cnf_matrix_normalized, interpolation='none', cmap='binary')\n",
        "  plt.colorbar()\n",
        "  plt.xticks(ticks, fontsize=6)\n",
        "  plt.yticks(ticks, fontsize=6)\n",
        "  plt.grid(True)\n",
        "  plt.clim(0, 1)\n",
        "  #plt.savefig('-rgb.png', bbox_inches='tight')\n",
        "  plt.show()"
      ],
      "execution_count": 0,
      "outputs": []
    },
    {
      "cell_type": "code",
      "metadata": {
        "id": "UFZ8XMaRq2_f",
        "colab_type": "code",
        "outputId": "f8f7abea-e55b-4611-88b1-b034cf9006ee",
        "colab": {
          "base_uri": "https://localhost:8080/",
          "height": 375
        }
      },
      "source": [
        "model = flow_resnet34(True, channels=2*stackSize, num_classes=NUM_CLASSES)\n",
        "#model_state_dict = PATH_MODELS + 'best_model_state_dict_flow_split2.pth' \n",
        "model_state_dict = PATH_MODELS + '/best_model_flow_state_dict.pth'\n",
        "model.load_state_dict(torch.load(model_state_dict))\n",
        "Test()"
      ],
      "execution_count": 0,
      "outputs": [
        {
          "output_type": "stream",
          "text": [
            "Number of samples = 116\n",
            "Evaluating...\n"
          ],
          "name": "stdout"
        },
        {
          "output_type": "stream",
          "text": [
            "/usr/local/lib/python3.6/dist-packages/ipykernel_launcher.py:16: UserWarning: volatile was removed and now has no effect. Use `with torch.no_grad():` instead.\n",
            "  app.launch_new_instance()\n"
          ],
          "name": "stderr"
        },
        {
          "output_type": "stream",
          "text": [
            "Test Accuracy = 0.10344827586206896%\n"
          ],
          "name": "stdout"
        },
        {
          "output_type": "display_data",
          "data": {
            "image/png": "[encoded data removed]",
            "text/plain": [
              "<Figure size 432x288 with 2 Axes>"
            ]
          },
          "metadata": {
            "tags": [],
            "needs_background": "light"
          }
        }
      ]
    },
    {
      "cell_type": "markdown",
      "metadata": {
        "id": "43paphOTJ4y6",
        "colab_type": "text"
      },
      "source": [
        "# Two-Stream (Joint Train)"
      ]
    },
    {
      "cell_type": "code",
      "metadata": {
        "id": "oJ5677Ot0IL8",
        "colab_type": "code",
        "colab": {}
      },
      "source": [
        "from MakeDatasetTwoStream import *\n",
        "from spatial_transforms import *\n",
        "from objectAttentionModelConvLSTM import *\n",
        "\n",
        "MEM_SIZE = 512\n",
        "numSeg = 16\n",
        "stackSize = 5\n",
        "lr = 1e-2\n",
        "decay_step = 1\n",
        "decay_factor = 0.99\n",
        "NUM_EPOCHS = 250\n",
        "\n",
        "\n",
        "normalize = Normalize(mean=[0.485, 0.456, 0.406], std=[0.229, 0.224, 0.225])\n",
        "spatial_transform = Compose([Scale(256), RandomHorizontalFlip(), MultiScaleCornerCrop([1, 0.875, 0.75, 0.65625], 224),\n",
        "                                 ToTensor(), normalize])\n",
        "\n",
        "DIR = 'GTEA61' \n",
        "training_folders = [1,3,4]\n",
        "train_dataset = makeDatasetTwoStream(DIR, spatial_transform=spatial_transform, stackSize=stackSize, numSeg=numSeg, fmt='.png', folders=training_folders)\n",
        "train_loader = torch.utils.data.DataLoader(train_dataset, batch_size=BATCH_SIZE, shuffle=True, num_workers=4, pin_memory=True)\n",
        "\n",
        "val_transform = Compose([Scale(256), CenterCrop(224), ToTensor(), normalize])\n",
        "validation = False\n",
        "if(validation):\n",
        "  validation_folders = [3]\n",
        "  val_dataset = makeDatasetTwoStream(DIR, spatial_transform=val_transform , stackSize=stackSize, numSeg=numSeg, fmt='.png', folders=validation_folders)\n",
        "  val_loader = torch.utils.data.DataLoader(val_dataset, batch_size=BATCH_SIZE, shuffle=True, num_workers=2, pin_memory=True)\n",
        "\n",
        "\n",
        "test_transform = Compose([Scale(256), CenterCrop(224), ToTensor(), normalize])\n",
        "testing_folders = [2]\n",
        "test_dataset = makeDatasetTwoStream(DIR, spatial_transform=val_transform, stackSize=stackSize, numSeg=numSeg, fmt='.png', folders=testing_folders)\n",
        "test_loader = torch.utils.data.DataLoader(test_dataset, batch_size=1, shuffle=True, num_workers=2, pin_memory=True)\n"
      ],
      "execution_count": 0,
      "outputs": []
    },
    {
      "cell_type": "code",
      "metadata": {
        "id": "zhUWxoZA109u",
        "colab_type": "code",
        "colab": {}
      },
      "source": [
        "from flow_resnet import flow_resnet34\n",
        "from objectAttentionModelConvLSTM import *\n",
        "from twoStreamModel import *\n",
        "\n",
        "#flowModel = flow_resnet34(True, channels=2*stackSize, num_classes=NUM_CLASSES)\n",
        "#model_state_dict = PATH_MODELS + 'best_model_state_dict_flow_split2.pth'\n",
        "flow_model_path = PATH_MODELS + 'best_model_state_dict_flow_split2.pth'\n",
        "#flowModel.load_state_dict(torch.load(model_state_dict))\n",
        "\n",
        "#rgbModel = attentionModel(num_classes=NUM_CLASSES, mem_size=MEM_SIZE)\n",
        "#stage1_dict = PATH_MODELS + '/best_model_rgb_state_dict.pth'\n",
        "rgb_model_path = PATH_MODELS + 'best_model_state_dict_rgb_split2.pth'\n",
        "#rgbModel.load_state_dict(torch.load(stage1_dict))\n",
        "\n",
        "\n",
        "model = twoStreamAttentionModel(flowModel=flow_model_path, frameModel=rgb_model_path, stackSize=stackSize, memSize=MEM_SIZE, num_classes=NUM_CLASSES)\n",
        "\n",
        "for params in model.parameters():\n",
        "  params.requires_grad = False\n",
        "\n",
        "model.train(False)\n",
        "train_params = []\n",
        "\n",
        "for params in model.classifier.parameters():\n",
        "  params.requires_grad = True\n",
        "  train_params += [params]\n",
        "\n",
        "for params in model.frameModel.lstm_cell.parameters():\n",
        "  train_params += [params]\n",
        "  params.requires_grad = True\n",
        "\n",
        "for params in model.frameModel.resNet.layer4[0].conv1.parameters():\n",
        "  params.requires_grad = True\n",
        "  train_params += [params]\n",
        "\n",
        "for params in model.frameModel.resNet.layer4[0].conv2.parameters():\n",
        "  params.requires_grad = True\n",
        "  train_params += [params]\n",
        "\n",
        "for params in model.frameModel.resNet.layer4[1].conv1.parameters():\n",
        "  params.requires_grad = True\n",
        "  train_params += [params]\n",
        "\n",
        "for params in model.frameModel.resNet.layer4[1].conv2.parameters():\n",
        "  params.requires_grad = True\n",
        "  train_params += [params]\n",
        "\n",
        "for params in model.frameModel.resNet.layer4[2].conv1.parameters():\n",
        "  params.requires_grad = True\n",
        "  train_params += [params]\n",
        "#\n",
        "for params in model.frameModel.resNet.layer4[2].conv2.parameters():\n",
        "  params.requires_grad = True\n",
        "  train_params += [params]\n",
        "#\n",
        "for params in model.frameModel.resNet.fc.parameters():\n",
        "  params.requires_grad = True\n",
        "  train_params += [params]\n",
        "\n",
        "base_params = []\n",
        "for params in model.flowModel.layer4.parameters():\n",
        "  base_params += [params]\n",
        "  params.requires_grad = True\n",
        "\n",
        "model.to(DEVICE)\n",
        "\n",
        "trainSamples = train_dataset.__len__()\n",
        "min_accuracy = 0\n",
        "valSamples = val_dataset.__len__()\n",
        "\n",
        "loss_fn = nn.CrossEntropyLoss()\n",
        "optimizer_fn = torch.optim.SGD([\n",
        "    {'params': train_params},\n",
        "    {'params': base_params, 'lr': 1e-4},\n",
        "    ], \n",
        "    lr=lr, momentum=0.9, weight_decay=5e-4)\n",
        "\n",
        "optim_scheduler = torch.optim.lr_scheduler.StepLR(optimizer_fn, step_size=decay_step, gamma=decay_factor)\n",
        "train_iter = 0"
      ],
      "execution_count": 0,
      "outputs": []
    },
    {
      "cell_type": "code",
      "metadata": {
        "id": "ScCA1ld02liQ",
        "colab_type": "code",
        "outputId": "2a08feab-f70e-4f9b-be64-d89785dc6608",
        "colab": {
          "base_uri": "https://localhost:8080/",
          "height": 1000
        }
      },
      "source": [
        "train_2stream = []\n",
        "val_2stream = []\n",
        "best_acc = -1\n",
        "\n",
        "for epoch in range(NUM_EPOCHS):\n",
        "  epoch_loss = 0\n",
        "  numCorrTrain = 0\n",
        "  iterPerEpoch = 0\n",
        "  model.classifier.train(True)\n",
        "  model.flowModel.layer4.train(True)\n",
        "  for j, (inputFlow, inputFrame, targets) in enumerate(train_loader):\n",
        "    train_iter += 1\n",
        "    iterPerEpoch += 1\n",
        "    optimizer_fn.zero_grad()\n",
        "    inputVariableFlow = Variable(inputFlow.cuda())\n",
        "    inputVariableFrame = Variable(inputFrame.permute(1, 0, 2, 3, 4).cuda())\n",
        "    labelVariable = Variable(targets.cuda())\n",
        "    output_label = model(inputVariableFlow, inputVariableFrame)\n",
        "    loss = loss_fn(F.log_softmax(output_label, dim=1), labelVariable)\n",
        "    loss.backward()\n",
        "    optimizer_fn.step()\n",
        "    _, predicted = torch.max(output_label.data, 1)\n",
        "    numCorrTrain += torch.sum(predicted == targets.to(DEVICE)).data.item()\n",
        "    epoch_loss += loss.item()\n",
        "  avg_loss = epoch_loss / iterPerEpoch\n",
        "  trainAccuracy = (numCorrTrain / trainSamples) * 100\n",
        "  print('Train: Epoch = {}/{} | Loss = {} | Accuracy = {}'.format(epoch + 1, NUM_EPOCHS, avg_loss, trainAccuracy))\n",
        "\n",
        "  max_loss = 6\n",
        "  avg_loss_normalized = avg_loss if avg_loss < max_loss else max_loss\n",
        "  train_2stream.append( (trainAccuracy,avg_loss_normalized) )\n",
        "\n",
        "  optim_scheduler.step()\n",
        "  #writer.add_scalar('train/epoch_loss', avg_loss, epoch + 1)\n",
        "  #writer.add_scalar('train/accuracy', trainAccuracy, epoch + 1)\n",
        "  #train_log_loss.write('Training loss after {} epoch = {}\\n'.format(epoch + 1, avg_loss))\n",
        "  #train_log_acc.write('Training accuracy after {} epoch = {}\\n'.format(epoch + 1, trainAccuracy))\n",
        "  if(validation):\n",
        "    if (epoch + 1) % VAL_FREQUENCY == 0:\n",
        "      model.train(False)\n",
        "      val_loss_epoch = 0\n",
        "      val_iter = 0\n",
        "      numCorr = 0\n",
        "      for j, (inputFlow, inputFrame, targets) in enumerate(val_loader):\n",
        "        val_iter += 1\n",
        "        inputVariableFlow = Variable(inputFlow.cuda())\n",
        "        inputVariableFrame = Variable(inputFrame.permute(1, 0, 2, 3, 4).cuda())\n",
        "        labelVariable = Variable(targets.cuda())\n",
        "        output_label = model(inputVariableFlow, inputVariableFrame)\n",
        "        loss = loss_fn(F.log_softmax(output_label, dim=1), labelVariable)\n",
        "        val_loss_epoch += loss.item()\n",
        "        _, predicted = torch.max(output_label.data, 1)\n",
        "        numCorr += torch.sum(predicted == labelVariable.to(DEVICE)).data.item()\n",
        "        #numCorr += (predicted == labelVariable.data).sum() Remove!\n",
        "      val_accuracy = (numCorr / valSamples) * 100\n",
        "      avg_val_loss = val_loss_epoch / val_iter\n",
        "      print('*****  Validation: Epoch = {} | Loss = {} | Accuracy = {}  *****'.format(epoch + 1, avg_val_loss, val_accuracy))\n",
        "\n",
        "      avg_val_loss = avg_loss if avg_loss < max_loss else max_loss\n",
        "      val_2stream.append( (val_accuracy,avg_val_loss) )\n",
        "\n",
        "      #writer.add_scalar('val/epoch_loss', avg_val_loss, epoch + 1)\n",
        "      #writer.add_scalar('val/accuracy', val_accuracy, epoch + 1)\n",
        "      #val_log_loss.write('Val Loss after {} epochs = {}\\n'.format(epoch + 1, avg_val_loss))\n",
        "      #val_log_acc.write('Val Accuracy after {} epochs = {}%\\n'.format(epoch + 1, val_accuracy))\n",
        "      if val_accuracy > min_accuracy:\n",
        "        save_path_model = (PATH_MODELS + '/best_model_twoStream_state_dict.pth')\n",
        "        torch.save(model.state_dict(), save_path_model)\n",
        "        min_accuracy = val_accuracy\n",
        "  \n",
        "  if (numCorrTrain>best_acc):\n",
        "      best_acc = numCorrTrain\n",
        "      save_path_model = (PATH_MODELS + '/model_2stream_state_dict_epoch' + '.pth')\n",
        "      torch.save(model.state_dict(), save_path_model)"
      ],
      "execution_count": 0,
      "outputs": [
        {
          "output_type": "stream",
          "text": [
            "/usr/local/lib/python3.6/dist-packages/torch/nn/functional.py:1569: UserWarning: nn.functional.sigmoid is deprecated. Use torch.sigmoid instead.\n",
            "  warnings.warn(\"nn.functional.sigmoid is deprecated. Use torch.sigmoid instead.\")\n",
            "/usr/local/lib/python3.6/dist-packages/torch/nn/functional.py:1558: UserWarning: nn.functional.tanh is deprecated. Use torch.tanh instead.\n",
            "  warnings.warn(\"nn.functional.tanh is deprecated. Use torch.tanh instead.\")\n"
          ],
          "name": "stderr"
        },
        {
          "output_type": "stream",
          "text": [
            "Train: Epoch = 1/250 | Loss = 1.6506337374448776 | Accuracy = 43.42105263157895\n",
            "Train: Epoch = 2/250 | Loss = 0.8862610682845116 | Accuracy = 50.43859649122807\n",
            "Train: Epoch = 3/250 | Loss = 0.9591204822063446 | Accuracy = 55.26315789473685\n",
            "*****  Validation: Epoch = 3 | Loss = 0.2429032064974308 | Accuracy = 93.96551724137932  *****\n",
            "Train: Epoch = 4/250 | Loss = 1.272862769663334 | Accuracy = 46.05263157894737\n",
            "Train: Epoch = 5/250 | Loss = 1.389718472957611 | Accuracy = 51.31578947368421\n",
            "Train: Epoch = 6/250 | Loss = 1.3834679573774338 | Accuracy = 53.07017543859649\n",
            "*****  Validation: Epoch = 6 | Loss = 1.366678774356842 | Accuracy = 29.310344827586203  *****\n",
            "Train: Epoch = 7/250 | Loss = 1.3402280062437057 | Accuracy = 53.94736842105263\n",
            "Train: Epoch = 8/250 | Loss = 1.2391476407647133 | Accuracy = 55.26315789473685\n",
            "Train: Epoch = 9/250 | Loss = 1.616665318608284 | Accuracy = 56.57894736842105\n",
            "*****  Validation: Epoch = 9 | Loss = 1.6471900343894958 | Accuracy = 37.93103448275862  *****\n",
            "Train: Epoch = 10/250 | Loss = 1.5702438801527023 | Accuracy = 57.01754385964912\n",
            "Train: Epoch = 11/250 | Loss = 1.3798983618617058 | Accuracy = 63.59649122807017\n",
            "Train: Epoch = 12/250 | Loss = 1.3326856419444084 | Accuracy = 57.01754385964912\n",
            "*****  Validation: Epoch = 12 | Loss = 0.7843429744243622 | Accuracy = 62.93103448275862  *****\n",
            "Train: Epoch = 13/250 | Loss = 0.9609629408805631 | Accuracy = 66.22807017543859\n",
            "Train: Epoch = 14/250 | Loss = 1.3360622867476195 | Accuracy = 62.71929824561403\n",
            "Train: Epoch = 15/250 | Loss = 1.7928730845451355 | Accuracy = 53.07017543859649\n",
            "*****  Validation: Epoch = 15 | Loss = 2.6430078744888306 | Accuracy = 12.931034482758621  *****\n",
            "Train: Epoch = 16/250 | Loss = 1.4405875876545906 | Accuracy = 62.71929824561403\n",
            "Train: Epoch = 17/250 | Loss = 1.4848951287567616 | Accuracy = 56.57894736842105\n",
            "Train: Epoch = 18/250 | Loss = 1.1029640957713127 | Accuracy = 66.22807017543859\n",
            "*****  Validation: Epoch = 18 | Loss = 0.9040112197399139 | Accuracy = 65.51724137931035  *****\n",
            "Train: Epoch = 19/250 | Loss = 0.744973860681057 | Accuracy = 74.12280701754386\n",
            "Train: Epoch = 20/250 | Loss = 1.2391737774014473 | Accuracy = 67.98245614035088\n",
            "Train: Epoch = 21/250 | Loss = 1.419301837682724 | Accuracy = 63.1578947368421\n",
            "*****  Validation: Epoch = 21 | Loss = 1.1139162331819534 | Accuracy = 51.724137931034484  *****\n",
            "Train: Epoch = 22/250 | Loss = 1.6207725778222084 | Accuracy = 55.70175438596491\n",
            "Train: Epoch = 23/250 | Loss = 1.2419499307870865 | Accuracy = 60.526315789473685\n",
            "Train: Epoch = 24/250 | Loss = 1.6072906255722046 | Accuracy = 54.824561403508774\n",
            "*****  Validation: Epoch = 24 | Loss = 0.8009513914585114 | Accuracy = 67.24137931034483  *****\n",
            "Train: Epoch = 25/250 | Loss = 1.1773460507392883 | Accuracy = 60.96491228070175\n",
            "Train: Epoch = 26/250 | Loss = 1.0252660363912582 | Accuracy = 59.210526315789465\n",
            "Train: Epoch = 27/250 | Loss = 1.7904570400714874 | Accuracy = 53.07017543859649\n",
            "*****  Validation: Epoch = 27 | Loss = 0.6859733164310455 | Accuracy = 62.06896551724138  *****\n",
            "Train: Epoch = 28/250 | Loss = 1.5558216348290443 | Accuracy = 54.824561403508774\n",
            "Train: Epoch = 29/250 | Loss = 1.164826899766922 | Accuracy = 56.14035087719298\n",
            "Train: Epoch = 30/250 | Loss = 1.2703128159046173 | Accuracy = 56.14035087719298\n",
            "*****  Validation: Epoch = 30 | Loss = 1.5418215990066528 | Accuracy = 18.96551724137931  *****\n",
            "Train: Epoch = 31/250 | Loss = 1.4938375726342201 | Accuracy = 55.70175438596491\n",
            "Train: Epoch = 32/250 | Loss = 1.7103205397725105 | Accuracy = 53.50877192982456\n",
            "Train: Epoch = 33/250 | Loss = 2.237337827682495 | Accuracy = 59.210526315789465\n",
            "*****  Validation: Epoch = 33 | Loss = 3.540942668914795 | Accuracy = 0.0  *****\n",
            "Train: Epoch = 34/250 | Loss = 2.038235455751419 | Accuracy = 53.50877192982456\n",
            "Train: Epoch = 35/250 | Loss = 1.6551369056105614 | Accuracy = 51.75438596491229\n",
            "Train: Epoch = 36/250 | Loss = 1.2791923880577087 | Accuracy = 57.45614035087719\n",
            "*****  Validation: Epoch = 36 | Loss = 0.6380776464939117 | Accuracy = 73.27586206896551  *****\n",
            "Train: Epoch = 37/250 | Loss = 1.5330809354782104 | Accuracy = 50.43859649122807\n",
            "Train: Epoch = 38/250 | Loss = 1.5892588570713997 | Accuracy = 57.01754385964912\n",
            "Train: Epoch = 39/250 | Loss = 1.5781228840351105 | Accuracy = 60.526315789473685\n",
            "*****  Validation: Epoch = 39 | Loss = 2.746255934238434 | Accuracy = 12.068965517241379  *****\n",
            "Train: Epoch = 40/250 | Loss = 1.35544553399086 | Accuracy = 53.94736842105263\n",
            "Train: Epoch = 41/250 | Loss = 1.4700815547257662 | Accuracy = 57.01754385964912\n",
            "Train: Epoch = 42/250 | Loss = 1.2487484067678452 | Accuracy = 57.45614035087719\n",
            "*****  Validation: Epoch = 42 | Loss = 3.256389617919922 | Accuracy = 0.8620689655172413  *****\n",
            "Train: Epoch = 43/250 | Loss = 1.5457125380635262 | Accuracy = 53.50877192982456\n",
            "Train: Epoch = 44/250 | Loss = 1.4706998839974403 | Accuracy = 53.07017543859649\n",
            "Train: Epoch = 45/250 | Loss = 1.4258453026413918 | Accuracy = 53.07017543859649\n",
            "*****  Validation: Epoch = 45 | Loss = 2.92097544670105 | Accuracy = 5.172413793103448  *****\n",
            "Train: Epoch = 46/250 | Loss = 1.6209508776664734 | Accuracy = 58.333333333333336\n",
            "Train: Epoch = 47/250 | Loss = 1.762656457722187 | Accuracy = 61.40350877192983\n",
            "Train: Epoch = 48/250 | Loss = 1.8704728931188583 | Accuracy = 55.70175438596491\n",
            "*****  Validation: Epoch = 48 | Loss = 0.342559028416872 | Accuracy = 82.75862068965517  *****\n",
            "Train: Epoch = 49/250 | Loss = 1.6921120379120111 | Accuracy = 53.07017543859649\n",
            "Train: Epoch = 50/250 | Loss = 1.9509439021348953 | Accuracy = 53.50877192982456\n",
            "Train: Epoch = 51/250 | Loss = 2.6817507445812225 | Accuracy = 52.19298245614035\n",
            "*****  Validation: Epoch = 51 | Loss = 6.051955342292786 | Accuracy = 2.586206896551724  *****\n",
            "Train: Epoch = 52/250 | Loss = 2.589262828230858 | Accuracy = 50.0\n",
            "Train: Epoch = 53/250 | Loss = 1.3800191208720207 | Accuracy = 56.14035087719298\n",
            "Train: Epoch = 54/250 | Loss = 1.1021377891302109 | Accuracy = 60.08771929824561\n",
            "*****  Validation: Epoch = 54 | Loss = 1.7311453521251678 | Accuracy = 32.758620689655174  *****\n",
            "Train: Epoch = 55/250 | Loss = 1.4572063833475113 | Accuracy = 55.26315789473685\n",
            "Train: Epoch = 56/250 | Loss = 1.6764259934425354 | Accuracy = 61.8421052631579\n",
            "Train: Epoch = 57/250 | Loss = 1.8179744184017181 | Accuracy = 52.19298245614035\n",
            "*****  Validation: Epoch = 57 | Loss = 2.158373862504959 | Accuracy = 17.24137931034483  *****\n",
            "Train: Epoch = 58/250 | Loss = 1.4535233974456787 | Accuracy = 58.333333333333336\n",
            "Train: Epoch = 59/250 | Loss = 1.6042584329843521 | Accuracy = 58.77192982456141\n",
            "Train: Epoch = 60/250 | Loss = 1.2309056976810098 | Accuracy = 63.59649122807017\n",
            "*****  Validation: Epoch = 60 | Loss = 0.13779789209365845 | Accuracy = 94.82758620689656  *****\n",
            "Train: Epoch = 61/250 | Loss = 1.5909288972616196 | Accuracy = 57.45614035087719\n",
            "Train: Epoch = 62/250 | Loss = 1.3656210526823997 | Accuracy = 58.333333333333336\n",
            "Train: Epoch = 63/250 | Loss = 1.4335555210709572 | Accuracy = 53.94736842105263\n",
            "*****  Validation: Epoch = 63 | Loss = 0.36571483314037323 | Accuracy = 82.75862068965517  *****\n",
            "Train: Epoch = 64/250 | Loss = 1.3353217095136642 | Accuracy = 64.91228070175438\n",
            "Train: Epoch = 65/250 | Loss = 1.3448820486664772 | Accuracy = 59.210526315789465\n",
            "Train: Epoch = 66/250 | Loss = 1.4708337262272835 | Accuracy = 52.19298245614035\n",
            "*****  Validation: Epoch = 66 | Loss = 1.3107328712940216 | Accuracy = 35.3448275862069  *****\n",
            "Train: Epoch = 67/250 | Loss = 1.4771872609853745 | Accuracy = 51.75438596491229\n",
            "Train: Epoch = 68/250 | Loss = 1.4456123672425747 | Accuracy = 50.877192982456144\n",
            "Train: Epoch = 69/250 | Loss = 1.5050987750291824 | Accuracy = 59.64912280701754\n",
            "*****  Validation: Epoch = 69 | Loss = 2.9303765296936035 | Accuracy = 6.896551724137931  *****\n",
            "Train: Epoch = 70/250 | Loss = 1.2643655464053154 | Accuracy = 57.45614035087719\n",
            "Train: Epoch = 71/250 | Loss = 1.1397016942501068 | Accuracy = 57.01754385964912\n",
            "Train: Epoch = 72/250 | Loss = 1.4719034135341644 | Accuracy = 58.333333333333336\n",
            "*****  Validation: Epoch = 72 | Loss = 5.398155212402344 | Accuracy = 0.0  *****\n",
            "Train: Epoch = 73/250 | Loss = 1.5037129744887352 | Accuracy = 56.14035087719298\n",
            "Train: Epoch = 74/250 | Loss = 1.6366253346204758 | Accuracy = 57.01754385964912\n",
            "Train: Epoch = 75/250 | Loss = 1.3290516436100006 | Accuracy = 52.63157894736842\n",
            "*****  Validation: Epoch = 75 | Loss = 1.2788517475128174 | Accuracy = 35.3448275862069  *****\n",
            "Train: Epoch = 76/250 | Loss = 1.136426668614149 | Accuracy = 57.89473684210527\n",
            "Train: Epoch = 77/250 | Loss = 1.1124970875680447 | Accuracy = 54.824561403508774\n",
            "Train: Epoch = 78/250 | Loss = 1.3859508335590363 | Accuracy = 61.40350877192983\n",
            "*****  Validation: Epoch = 78 | Loss = 3.1865814328193665 | Accuracy = 6.0344827586206895  *****\n",
            "Train: Epoch = 79/250 | Loss = 1.12438253313303 | Accuracy = 57.89473684210527\n",
            "Train: Epoch = 80/250 | Loss = 1.1986391227692366 | Accuracy = 53.07017543859649\n",
            "Train: Epoch = 81/250 | Loss = 1.1140889450907707 | Accuracy = 59.210526315789465\n",
            "*****  Validation: Epoch = 81 | Loss = 1.7258784770965576 | Accuracy = 24.137931034482758  *****\n",
            "Train: Epoch = 82/250 | Loss = 1.0741676911711693 | Accuracy = 57.89473684210527\n",
            "Train: Epoch = 83/250 | Loss = 0.8877110332250595 | Accuracy = 59.64912280701754\n",
            "Train: Epoch = 84/250 | Loss = 1.109314739704132 | Accuracy = 61.8421052631579\n",
            "*****  Validation: Epoch = 84 | Loss = 1.7600963413715363 | Accuracy = 13.793103448275861  *****\n",
            "Train: Epoch = 85/250 | Loss = 1.126246303319931 | Accuracy = 53.50877192982456\n",
            "Train: Epoch = 86/250 | Loss = 1.088550142943859 | Accuracy = 57.89473684210527\n",
            "Train: Epoch = 87/250 | Loss = 1.044961892068386 | Accuracy = 60.526315789473685\n",
            "*****  Validation: Epoch = 87 | Loss = 0.3953526243567467 | Accuracy = 81.03448275862068  *****\n",
            "Train: Epoch = 88/250 | Loss = 1.469497948884964 | Accuracy = 58.333333333333336\n",
            "Train: Epoch = 89/250 | Loss = 1.3162457272410393 | Accuracy = 58.77192982456141\n",
            "Train: Epoch = 90/250 | Loss = 1.3244197517633438 | Accuracy = 58.333333333333336\n",
            "*****  Validation: Epoch = 90 | Loss = 2.1196849644184113 | Accuracy = 16.379310344827587  *****\n",
            "Train: Epoch = 91/250 | Loss = 1.2905523553490639 | Accuracy = 60.526315789473685\n",
            "Train: Epoch = 92/250 | Loss = 1.299248829483986 | Accuracy = 57.45614035087719\n",
            "Train: Epoch = 93/250 | Loss = 1.330947183072567 | Accuracy = 60.526315789473685\n",
            "*****  Validation: Epoch = 93 | Loss = 1.4732831120491028 | Accuracy = 33.62068965517241  *****\n",
            "Train: Epoch = 94/250 | Loss = 1.241651326417923 | Accuracy = 58.333333333333336\n",
            "Train: Epoch = 95/250 | Loss = 1.3704205062240362 | Accuracy = 52.19298245614035\n",
            "Train: Epoch = 96/250 | Loss = 1.1375571936368942 | Accuracy = 60.96491228070175\n",
            "*****  Validation: Epoch = 96 | Loss = 0.29600661620497704 | Accuracy = 89.65517241379311  *****\n",
            "Train: Epoch = 97/250 | Loss = 1.5073121562600136 | Accuracy = 58.333333333333336\n",
            "Train: Epoch = 98/250 | Loss = 1.1861104294657707 | Accuracy = 59.210526315789465\n",
            "Train: Epoch = 99/250 | Loss = 1.1228447034955025 | Accuracy = 56.14035087719298\n",
            "*****  Validation: Epoch = 99 | Loss = 0.5165313705801964 | Accuracy = 76.72413793103449  *****\n",
            "Train: Epoch = 100/250 | Loss = 1.0119346603751183 | Accuracy = 59.64912280701754\n",
            "Train: Epoch = 101/250 | Loss = 1.2489078268408775 | Accuracy = 57.01754385964912\n"
          ],
          "name": "stdout"
        },
        {
          "output_type": "error",
          "ename": "KeyboardInterrupt",
          "evalue": "ignored",
          "traceback": [
            "\u001b[0;31m---------------------------------------------------------------------------\u001b[0m",
            "\u001b[0;31mKeyboardInterrupt\u001b[0m                         Traceback (most recent call last)",
            "\u001b[0;32m<ipython-input-14-36595e0f7f63>\u001b[0m in \u001b[0;36m<module>\u001b[0;34m()\u001b[0m\n\u001b[1;32m      5\u001b[0m   \u001b[0mmodel\u001b[0m\u001b[0;34m.\u001b[0m\u001b[0mclassifier\u001b[0m\u001b[0;34m.\u001b[0m\u001b[0mtrain\u001b[0m\u001b[0;34m(\u001b[0m\u001b[0;32mTrue\u001b[0m\u001b[0;34m)\u001b[0m\u001b[0;34m\u001b[0m\u001b[0;34m\u001b[0m\u001b[0m\n\u001b[1;32m      6\u001b[0m   \u001b[0mmodel\u001b[0m\u001b[0;34m.\u001b[0m\u001b[0mflowModel\u001b[0m\u001b[0;34m.\u001b[0m\u001b[0mlayer4\u001b[0m\u001b[0;34m.\u001b[0m\u001b[0mtrain\u001b[0m\u001b[0;34m(\u001b[0m\u001b[0;32mTrue\u001b[0m\u001b[0;34m)\u001b[0m\u001b[0;34m\u001b[0m\u001b[0;34m\u001b[0m\u001b[0m\n\u001b[0;32m----> 7\u001b[0;31m   \u001b[0;32mfor\u001b[0m \u001b[0mj\u001b[0m\u001b[0;34m,\u001b[0m \u001b[0;34m(\u001b[0m\u001b[0minputFlow\u001b[0m\u001b[0;34m,\u001b[0m \u001b[0minputFrame\u001b[0m\u001b[0;34m,\u001b[0m \u001b[0mtargets\u001b[0m\u001b[0;34m)\u001b[0m \u001b[0;32min\u001b[0m \u001b[0menumerate\u001b[0m\u001b[0;34m(\u001b[0m\u001b[0mtrain_loader\u001b[0m\u001b[0;34m)\u001b[0m\u001b[0;34m:\u001b[0m\u001b[0;34m\u001b[0m\u001b[0;34m\u001b[0m\u001b[0m\n\u001b[0m\u001b[1;32m      8\u001b[0m     \u001b[0mtrain_iter\u001b[0m \u001b[0;34m+=\u001b[0m \u001b[0;36m1\u001b[0m\u001b[0;34m\u001b[0m\u001b[0;34m\u001b[0m\u001b[0m\n\u001b[1;32m      9\u001b[0m     \u001b[0miterPerEpoch\u001b[0m \u001b[0;34m+=\u001b[0m \u001b[0;36m1\u001b[0m\u001b[0;34m\u001b[0m\u001b[0;34m\u001b[0m\u001b[0m\n",
            "\u001b[0;32m/usr/local/lib/python3.6/dist-packages/torch/utils/data/dataloader.py\u001b[0m in \u001b[0;36m__next__\u001b[0;34m(self)\u001b[0m\n\u001b[1;32m    343\u001b[0m \u001b[0;34m\u001b[0m\u001b[0m\n\u001b[1;32m    344\u001b[0m     \u001b[0;32mdef\u001b[0m \u001b[0m__next__\u001b[0m\u001b[0;34m(\u001b[0m\u001b[0mself\u001b[0m\u001b[0;34m)\u001b[0m\u001b[0;34m:\u001b[0m\u001b[0;34m\u001b[0m\u001b[0;34m\u001b[0m\u001b[0m\n\u001b[0;32m--> 345\u001b[0;31m         \u001b[0mdata\u001b[0m \u001b[0;34m=\u001b[0m \u001b[0mself\u001b[0m\u001b[0;34m.\u001b[0m\u001b[0m_next_data\u001b[0m\u001b[0;34m(\u001b[0m\u001b[0;34m)\u001b[0m\u001b[0;34m\u001b[0m\u001b[0;34m\u001b[0m\u001b[0m\n\u001b[0m\u001b[1;32m    346\u001b[0m         \u001b[0mself\u001b[0m\u001b[0;34m.\u001b[0m\u001b[0m_num_yielded\u001b[0m \u001b[0;34m+=\u001b[0m \u001b[0;36m1\u001b[0m\u001b[0;34m\u001b[0m\u001b[0;34m\u001b[0m\u001b[0m\n\u001b[1;32m    347\u001b[0m         \u001b[0;32mif\u001b[0m \u001b[0mself\u001b[0m\u001b[0;34m.\u001b[0m\u001b[0m_dataset_kind\u001b[0m \u001b[0;34m==\u001b[0m \u001b[0m_DatasetKind\u001b[0m\u001b[0;34m.\u001b[0m\u001b[0mIterable\u001b[0m \u001b[0;32mand\u001b[0m\u001b[0;31m \u001b[0m\u001b[0;31m\\\u001b[0m\u001b[0;34m\u001b[0m\u001b[0;34m\u001b[0m\u001b[0m\n",
            "\u001b[0;32m/usr/local/lib/python3.6/dist-packages/torch/utils/data/dataloader.py\u001b[0m in \u001b[0;36m_next_data\u001b[0;34m(self)\u001b[0m\n\u001b[1;32m    839\u001b[0m \u001b[0;34m\u001b[0m\u001b[0m\n\u001b[1;32m    840\u001b[0m             \u001b[0;32massert\u001b[0m \u001b[0;32mnot\u001b[0m \u001b[0mself\u001b[0m\u001b[0;34m.\u001b[0m\u001b[0m_shutdown\u001b[0m \u001b[0;32mand\u001b[0m \u001b[0mself\u001b[0m\u001b[0;34m.\u001b[0m\u001b[0m_tasks_outstanding\u001b[0m \u001b[0;34m>\u001b[0m \u001b[0;36m0\u001b[0m\u001b[0;34m\u001b[0m\u001b[0;34m\u001b[0m\u001b[0m\n\u001b[0;32m--> 841\u001b[0;31m             \u001b[0midx\u001b[0m\u001b[0;34m,\u001b[0m \u001b[0mdata\u001b[0m \u001b[0;34m=\u001b[0m \u001b[0mself\u001b[0m\u001b[0;34m.\u001b[0m\u001b[0m_get_data\u001b[0m\u001b[0;34m(\u001b[0m\u001b[0;34m)\u001b[0m\u001b[0;34m\u001b[0m\u001b[0;34m\u001b[0m\u001b[0m\n\u001b[0m\u001b[1;32m    842\u001b[0m             \u001b[0mself\u001b[0m\u001b[0;34m.\u001b[0m\u001b[0m_tasks_outstanding\u001b[0m \u001b[0;34m-=\u001b[0m \u001b[0;36m1\u001b[0m\u001b[0;34m\u001b[0m\u001b[0;34m\u001b[0m\u001b[0m\n\u001b[1;32m    843\u001b[0m \u001b[0;34m\u001b[0m\u001b[0m\n",
            "\u001b[0;32m/usr/local/lib/python3.6/dist-packages/torch/utils/data/dataloader.py\u001b[0m in \u001b[0;36m_get_data\u001b[0;34m(self)\u001b[0m\n\u001b[1;32m    796\u001b[0m         \u001b[0;32melif\u001b[0m \u001b[0mself\u001b[0m\u001b[0;34m.\u001b[0m\u001b[0m_pin_memory\u001b[0m\u001b[0;34m:\u001b[0m\u001b[0;34m\u001b[0m\u001b[0;34m\u001b[0m\u001b[0m\n\u001b[1;32m    797\u001b[0m             \u001b[0;32mwhile\u001b[0m \u001b[0mself\u001b[0m\u001b[0;34m.\u001b[0m\u001b[0m_pin_memory_thread\u001b[0m\u001b[0;34m.\u001b[0m\u001b[0mis_alive\u001b[0m\u001b[0;34m(\u001b[0m\u001b[0;34m)\u001b[0m\u001b[0;34m:\u001b[0m\u001b[0;34m\u001b[0m\u001b[0;34m\u001b[0m\u001b[0m\n\u001b[0;32m--> 798\u001b[0;31m                 \u001b[0msuccess\u001b[0m\u001b[0;34m,\u001b[0m \u001b[0mdata\u001b[0m \u001b[0;34m=\u001b[0m \u001b[0mself\u001b[0m\u001b[0;34m.\u001b[0m\u001b[0m_try_get_data\u001b[0m\u001b[0;34m(\u001b[0m\u001b[0;34m)\u001b[0m\u001b[0;34m\u001b[0m\u001b[0;34m\u001b[0m\u001b[0m\n\u001b[0m\u001b[1;32m    799\u001b[0m                 \u001b[0;32mif\u001b[0m \u001b[0msuccess\u001b[0m\u001b[0;34m:\u001b[0m\u001b[0;34m\u001b[0m\u001b[0;34m\u001b[0m\u001b[0m\n\u001b[1;32m    800\u001b[0m                     \u001b[0;32mreturn\u001b[0m \u001b[0mdata\u001b[0m\u001b[0;34m\u001b[0m\u001b[0;34m\u001b[0m\u001b[0m\n",
            "\u001b[0;32m/usr/local/lib/python3.6/dist-packages/torch/utils/data/dataloader.py\u001b[0m in \u001b[0;36m_try_get_data\u001b[0;34m(self, timeout)\u001b[0m\n\u001b[1;32m    759\u001b[0m         \u001b[0;31m#   (bool: whether successfully get data, any: data if successful else None)\u001b[0m\u001b[0;34m\u001b[0m\u001b[0;34m\u001b[0m\u001b[0;34m\u001b[0m\u001b[0m\n\u001b[1;32m    760\u001b[0m         \u001b[0;32mtry\u001b[0m\u001b[0;34m:\u001b[0m\u001b[0;34m\u001b[0m\u001b[0;34m\u001b[0m\u001b[0m\n\u001b[0;32m--> 761\u001b[0;31m             \u001b[0mdata\u001b[0m \u001b[0;34m=\u001b[0m \u001b[0mself\u001b[0m\u001b[0;34m.\u001b[0m\u001b[0m_data_queue\u001b[0m\u001b[0;34m.\u001b[0m\u001b[0mget\u001b[0m\u001b[0;34m(\u001b[0m\u001b[0mtimeout\u001b[0m\u001b[0;34m=\u001b[0m\u001b[0mtimeout\u001b[0m\u001b[0;34m)\u001b[0m\u001b[0;34m\u001b[0m\u001b[0;34m\u001b[0m\u001b[0m\n\u001b[0m\u001b[1;32m    762\u001b[0m             \u001b[0;32mreturn\u001b[0m \u001b[0;34m(\u001b[0m\u001b[0;32mTrue\u001b[0m\u001b[0;34m,\u001b[0m \u001b[0mdata\u001b[0m\u001b[0;34m)\u001b[0m\u001b[0;34m\u001b[0m\u001b[0;34m\u001b[0m\u001b[0m\n\u001b[1;32m    763\u001b[0m         \u001b[0;32mexcept\u001b[0m \u001b[0mException\u001b[0m \u001b[0;32mas\u001b[0m \u001b[0me\u001b[0m\u001b[0;34m:\u001b[0m\u001b[0;34m\u001b[0m\u001b[0;34m\u001b[0m\u001b[0m\n",
            "\u001b[0;32m/usr/lib/python3.6/queue.py\u001b[0m in \u001b[0;36mget\u001b[0;34m(self, block, timeout)\u001b[0m\n\u001b[1;32m    171\u001b[0m                     \u001b[0;32mif\u001b[0m \u001b[0mremaining\u001b[0m \u001b[0;34m<=\u001b[0m \u001b[0;36m0.0\u001b[0m\u001b[0;34m:\u001b[0m\u001b[0;34m\u001b[0m\u001b[0;34m\u001b[0m\u001b[0m\n\u001b[1;32m    172\u001b[0m                         \u001b[0;32mraise\u001b[0m \u001b[0mEmpty\u001b[0m\u001b[0;34m\u001b[0m\u001b[0;34m\u001b[0m\u001b[0m\n\u001b[0;32m--> 173\u001b[0;31m                     \u001b[0mself\u001b[0m\u001b[0;34m.\u001b[0m\u001b[0mnot_empty\u001b[0m\u001b[0;34m.\u001b[0m\u001b[0mwait\u001b[0m\u001b[0;34m(\u001b[0m\u001b[0mremaining\u001b[0m\u001b[0;34m)\u001b[0m\u001b[0;34m\u001b[0m\u001b[0;34m\u001b[0m\u001b[0m\n\u001b[0m\u001b[1;32m    174\u001b[0m             \u001b[0mitem\u001b[0m \u001b[0;34m=\u001b[0m \u001b[0mself\u001b[0m\u001b[0;34m.\u001b[0m\u001b[0m_get\u001b[0m\u001b[0;34m(\u001b[0m\u001b[0;34m)\u001b[0m\u001b[0;34m\u001b[0m\u001b[0;34m\u001b[0m\u001b[0m\n\u001b[1;32m    175\u001b[0m             \u001b[0mself\u001b[0m\u001b[0;34m.\u001b[0m\u001b[0mnot_full\u001b[0m\u001b[0;34m.\u001b[0m\u001b[0mnotify\u001b[0m\u001b[0;34m(\u001b[0m\u001b[0;34m)\u001b[0m\u001b[0;34m\u001b[0m\u001b[0;34m\u001b[0m\u001b[0m\n",
            "\u001b[0;32m/usr/lib/python3.6/threading.py\u001b[0m in \u001b[0;36mwait\u001b[0;34m(self, timeout)\u001b[0m\n\u001b[1;32m    297\u001b[0m             \u001b[0;32melse\u001b[0m\u001b[0;34m:\u001b[0m\u001b[0;34m\u001b[0m\u001b[0;34m\u001b[0m\u001b[0m\n\u001b[1;32m    298\u001b[0m                 \u001b[0;32mif\u001b[0m \u001b[0mtimeout\u001b[0m \u001b[0;34m>\u001b[0m \u001b[0;36m0\u001b[0m\u001b[0;34m:\u001b[0m\u001b[0;34m\u001b[0m\u001b[0;34m\u001b[0m\u001b[0m\n\u001b[0;32m--> 299\u001b[0;31m                     \u001b[0mgotit\u001b[0m \u001b[0;34m=\u001b[0m \u001b[0mwaiter\u001b[0m\u001b[0;34m.\u001b[0m\u001b[0macquire\u001b[0m\u001b[0;34m(\u001b[0m\u001b[0;32mTrue\u001b[0m\u001b[0;34m,\u001b[0m \u001b[0mtimeout\u001b[0m\u001b[0;34m)\u001b[0m\u001b[0;34m\u001b[0m\u001b[0;34m\u001b[0m\u001b[0m\n\u001b[0m\u001b[1;32m    300\u001b[0m                 \u001b[0;32melse\u001b[0m\u001b[0;34m:\u001b[0m\u001b[0;34m\u001b[0m\u001b[0;34m\u001b[0m\u001b[0m\n\u001b[1;32m    301\u001b[0m                     \u001b[0mgotit\u001b[0m \u001b[0;34m=\u001b[0m \u001b[0mwaiter\u001b[0m\u001b[0;34m.\u001b[0m\u001b[0macquire\u001b[0m\u001b[0;34m(\u001b[0m\u001b[0;32mFalse\u001b[0m\u001b[0;34m)\u001b[0m\u001b[0;34m\u001b[0m\u001b[0;34m\u001b[0m\u001b[0m\n",
            "\u001b[0;31mKeyboardInterrupt\u001b[0m: "
          ]
        }
      ]
    },
    {
      "cell_type": "code",
      "metadata": {
        "id": "i__NPek9as2F",
        "colab_type": "code",
        "outputId": "ac475060-3c53-43d5-f66d-862c5aa1226e",
        "colab": {
          "base_uri": "https://localhost:8080/",
          "height": 190
        }
      },
      "source": [
        "meta_2stream = 'Training 2 Stream Model'\n",
        "PlotAccuracyLoss(train_2stream, val_2stream, meta_2stream)"
      ],
      "execution_count": 0,
      "outputs": [
        {
          "output_type": "error",
          "ename": "NameError",
          "evalue": "ignored",
          "traceback": [
            "\u001b[0;31m---------------------------------------------------------------------------\u001b[0m",
            "\u001b[0;31mNameError\u001b[0m                                 Traceback (most recent call last)",
            "\u001b[0;32m<ipython-input-15-2e7c852ce542>\u001b[0m in \u001b[0;36m<module>\u001b[0;34m()\u001b[0m\n\u001b[1;32m      1\u001b[0m \u001b[0mmeta_2stream\u001b[0m \u001b[0;34m=\u001b[0m \u001b[0;34m'Training 2 Stream Model'\u001b[0m\u001b[0;34m\u001b[0m\u001b[0;34m\u001b[0m\u001b[0m\n\u001b[0;32m----> 2\u001b[0;31m \u001b[0mPlotAccuracyLoss\u001b[0m\u001b[0;34m(\u001b[0m\u001b[0mtrain_2stream\u001b[0m\u001b[0;34m,\u001b[0m \u001b[0mval_2stream\u001b[0m\u001b[0;34m,\u001b[0m \u001b[0mmeta_2stream\u001b[0m\u001b[0;34m)\u001b[0m\u001b[0;34m\u001b[0m\u001b[0;34m\u001b[0m\u001b[0m\n\u001b[0m",
            "\u001b[0;31mNameError\u001b[0m: name 'train_2stream' is not defined"
          ]
        }
      ]
    },
    {
      "cell_type": "code",
      "metadata": {
        "id": "ircLBpwkrkvN",
        "colab_type": "code",
        "colab": {}
      },
      "source": [
        "model = twoStreamAttentionModel(stackSize=5, memSize=512, num_classes=num_classes)\n",
        "model_state_dict = PATH_MODELS + '/best_model_join_state_dict.pth'\n",
        "model.load_state_dict(torch.load(model_state_dict))\n",
        "\n",
        "\n",
        "for params in model.parameters():\n",
        "    params.requires_grad = False\n",
        "\n",
        "model.train(False)\n",
        "model.cuda()\n",
        "\n",
        "test_samples = vid_seq_test.__len__()\n",
        "print('Number of samples = {}'.format(test_samples))\n",
        "print('Evaluating...')\n",
        "numCorrTwoStream = 0\n",
        "\n",
        "predicted_labels = []\n",
        "true_labels = []\n",
        "for j, (inputFlow, inputFrame, targets) in enumerate(test_loader):\n",
        "    inputVariableFrame = Variable(inputFrame.permute(1, 0, 2, 3, 4).cuda(), volatile=True)\n",
        "    inputVariableFlow = Variable(inputFlow.cuda(), volatile=True)\n",
        "    output_label = model(inputVariableFlow, inputVariableFrame)\n",
        "    _, predictedTwoStream = torch.max(output_label.data, 1)\n",
        "    numCorrTwoStream += torch.sum(predicted == targets.to(DEVICE)).data.item()\n",
        "    predicted_labels.append(predictedTwoStream)\n",
        "    true_labels.append(targets)\n",
        "test_accuracyTwoStream = (numCorrTwoStream / test_samples) * 100\n",
        "\n",
        "cnf_matrix = confusion_matrix([f.item() for f in true_labels], [f.item() for f in predicted_labels]).astype(float)\n",
        "cnf_matrix_normalized = cnf_matrix / cnf_matrix.sum(axis=1)[:, np.newaxis]\n",
        "\n",
        "print('Accuracy {:.02f}%'.format(test_accuracyTwoStream))\n",
        "\n",
        "ticks=np.linspace(0, 60, num=61)\n",
        "plt.imshow(cnf_matrix_normalized, interpolation='none', cmap='binary')\n",
        "plt.colorbar()\n",
        "plt.xticks(ticks,fontsize=6)\n",
        "plt.yticks(ticks,fontsize=6)\n",
        "plt.grid(True)\n",
        "plt.clim(0, 1)\n",
        "#plt.savefig(dataset + '-twoStreamJoint.jpg', bbox_inches='tight')\n",
        "plt.show()"
      ],
      "execution_count": 0,
      "outputs": []
    },
    {
      "cell_type": "markdown",
      "metadata": {
        "id": "pT8azTkj1I7J",
        "colab_type": "text"
      },
      "source": [
        "# Generation Activation Maps"
      ]
    },
    {
      "cell_type": "code",
      "metadata": {
        "id": "HnITW_TU1NTK",
        "colab_type": "code",
        "outputId": "499c6e56-b5ae-4686-b839-4f0c3ed29da5",
        "colab": {
          "base_uri": "https://localhost:8080/",
          "height": 92
        }
      },
      "source": [
        "import numpy as np\n",
        "from torchvision import transforms\n",
        "import cv2\n",
        "from objectAttentionModelConvLSTM import *\n",
        "from MakeDatasetTwoStream import *\n",
        "from attentionMapModel import attentionMap\n",
        "from PIL import Image\n",
        "\n",
        "####################Model definition###############################\n",
        "num_classes = 61 # Classes in the pre-trained model\n",
        "mem_size = 512\n",
        "stackSize = 5\n",
        "numSeg = 7\n",
        "#model_state_dict = 'Models/best_model_state_dict_rgb_split2.pth' # Weights of the pre-trained model\n",
        "\n",
        "model = attentionModel(num_classes=num_classes, mem_size=mem_size)\n",
        "model.load_state_dict(torch.load(model_state_dict))\n",
        "model_backbone = model.resNet\n",
        "attentionMapModel = attentionMap(model_backbone).cuda()\n",
        "attentionMapModel.train(False)\n",
        "for params in attentionMapModel.parameters():\n",
        "    params.requires_grad = False\n",
        "###################################################################\n",
        "\n",
        "normalize = transforms.Normalize(\n",
        "   mean=[0.485, 0.456, 0.406],\n",
        "   std=[0.229, 0.224, 0.225]\n",
        ")\n",
        "preprocess1 = transforms.Compose([\n",
        "   transforms.Scale(256),\n",
        "   transforms.CenterCrop(224),\n",
        "])\n",
        "\n",
        "preprocess2 = transforms.Compose([\n",
        "    transforms.ToTensor(),\n",
        "    normalize])\n",
        "\n",
        "DIR = 'GTEA61' \n",
        "folders = [1,2,4]\n",
        "dataset = makeDatasetTwoStream(DIR, spatial_transform=spatial_transform, stackSize=stackSize, numSeg=numSeg, fmt='.png', folders=folders)\n",
        "\n",
        "fl_name_in = 'GTEA61/processed_frames2/S1/close_chocolate/1/rgb/rgb0001.png'\n",
        "fl_name_out = 'Images/test_image_attention.jpg'\n",
        "\n",
        "img_pil = Image.open(fl_name_in)\n",
        "img_pil1 = preprocess1(img_pil)\n",
        "img_size = img_pil1.size\n",
        "size_upsample = (img_size[0], img_size[1])\n",
        "img_tensor = preprocess2(img_pil1)\n",
        "img_variable = Variable(img_tensor.unsqueeze(0).cuda())\n",
        "img = np.asarray(img_pil1)\n",
        "attentionMap_image = attentionMapModel(img_variable, img, size_upsample)\n",
        "cv2.imwrite(fl_name_out, attentionMap_image)"
      ],
      "execution_count": 0,
      "outputs": [
        {
          "output_type": "stream",
          "text": [
            "/usr/local/lib/python3.6/dist-packages/torchvision/transforms/transforms.py:211: UserWarning: The use of the transforms.Scale transform is deprecated, please use transforms.Resize instead.\n",
            "  \"please use transforms.Resize instead.\")\n"
          ],
          "name": "stderr"
        },
        {
          "output_type": "execute_result",
          "data": {
            "text/plain": [
              "True"
            ]
          },
          "metadata": {
            "tags": []
          },
          "execution_count": 98
        }
      ]
    },
    {
      "cell_type": "code",
      "metadata": {
        "id": "3etDbHYQWdkP",
        "colab_type": "code",
        "colab": {}
      },
      "source": [
        ""
      ],
      "execution_count": 0,
      "outputs": []
    }
  ]
}